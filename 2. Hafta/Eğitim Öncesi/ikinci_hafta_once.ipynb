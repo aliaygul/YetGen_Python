{
 "cells": [
  {
   "attachments": {},
   "cell_type": "markdown",
   "metadata": {},
   "source": [
    "# 2. Hafta Hedefleri\n",
    "* Print fonksiyonu nedir ne işe yarar ve parametreleri nelerdir?\n",
    "* Yorum satırları\n",
    "* Değişkenler ve tanımlama kuralları\n",
    "* Type fonksiyonu\n",
    "* Sayı veri türleri ve matematik işlemler\n",
    "* String, boolean veri türleri\n",
    "* Input fonksiyonu"
   ]
  },
  {
   "attachments": {},
   "cell_type": "markdown",
   "metadata": {},
   "source": [
    "# print() Fonksiyonu Nedir ve Ne İşe Yarar?\n",
    "\n",
    "* Print() fonksiyonunun görevi ekrana çıktı vermemizi sağlamaktır."
   ]
  },
  {
   "cell_type": "code",
   "execution_count": 2,
   "metadata": {},
   "outputs": [
    {
     "name": "stdout",
     "output_type": "stream",
     "text": [
      "Hello World\n"
     ]
    }
   ],
   "source": [
    "\"\"\" kodlama anında metin eklemek istersek üç tırnak ile ekleyebiliriz.\"\"\"\n",
    "\"\"\" metinsel ifadeleri çift tırnak içine yazmalıyız\"\"\"\n",
    "\n",
    "print(\"Hello World\")"
   ]
  },
  {
   "cell_type": "code",
   "execution_count": 4,
   "metadata": {},
   "outputs": [
    {
     "data": {
      "text/plain": [
       "'Hello World'"
      ]
     },
     "execution_count": 4,
     "metadata": {},
     "output_type": "execute_result"
    }
   ],
   "source": [
    "# Eğer herhangi bir metinsel ifadeyi yine tırnak içinde yazdırırsak o ifadeyi çıkarır. Farkı ise print fonkstiyonu ile alt alta yazı yazabiliyoruz.\n",
    "\"Hello World\""
   ]
  },
  {
   "attachments": {},
   "cell_type": "markdown",
   "metadata": {},
   "source": [
    "# print() Fonksiyonunun Parametreleri\n",
    "## 1. sep\n",
    "* sep ifadesi, İngilizce'deki separator (ayırıcı,ayraç) kelimesinin kısaltmasıdır. Dolayısıyla da print() fonksiyonundaki bu sep parametresi ekrana basılacak öğeler arasına hangi karakterlerin yerleşeceğini gösterir. Kullanılmasının pek bir önemi yoktur, çünkü hep oradadır."
   ]
  },
  {
   "cell_type": "code",
   "execution_count": 2,
   "metadata": {},
   "outputs": [
    {
     "name": "stdout",
     "output_type": "stream",
     "text": [
      "Naber ALİ Nasılsın\n"
     ]
    }
   ],
   "source": [
    "print(\"Naber \", \" Nasılsın\", sep=\"ALİ\")"
   ]
  },
  {
   "cell_type": "code",
   "execution_count": 11,
   "metadata": {},
   "outputs": [
    {
     "name": "stdout",
     "output_type": "stream",
     "text": [
      "ALİNABER\n"
     ]
    }
   ],
   "source": [
    "# Eğer sep'i boş bırakırsak direkt olarak birleştirir.\n",
    "print(\"ALİ\" , \"NABER\", sep=\"\")"
   ]
  },
  {
   "attachments": {},
   "cell_type": "markdown",
   "metadata": {},
   "source": [
    "## 2. end\n",
    "Tıpkı sep parametresi gibi, end parametresi de print() fonksiyonunda görünmese bile her zaman oradadır. end parametresi ise bu parametrelerin sonuna neyin geleceğini belirler."
   ]
  },
  {
   "cell_type": "code",
   "execution_count": 14,
   "metadata": {},
   "outputs": [
    {
     "name": "stdout",
     "output_type": "stream",
     "text": [
      "Naber Ali İyi Misin."
     ]
    }
   ],
   "source": [
    "print(\"Naber Ali İyi Misin\", end=\".\")"
   ]
  },
  {
   "attachments": {},
   "cell_type": "markdown",
   "metadata": {},
   "source": [
    "### Önemli noktalar ise, print() fonksiyonunda sözcük çıkartmak istersek tırnak içerisine almalıyız. Eğer fonksiyonun içine print(\"9.1\") tarzı bir sayı yazarsak tırnak içinde olduğundan dolayı o da bir sözcük olarak sayılacaktır. Fakat print(2.1) yazarsak sayı olarak anlaşılır ve direkt 2.1 olarak çıkartılır."
   ]
  },
  {
   "attachments": {},
   "cell_type": "markdown",
   "metadata": {},
   "source": [
    "# Yorum Satırları\n",
    "* Python programlama dilinde eğer kodlama anında bir şey açıklama ihtiyacı duyduysak yukarıda örneğini verdiğim gibi # işareti ya da çoklu yorum satırları için de \"\"\" işaretini kullanırız. "
   ]
  },
  {
   "cell_type": "code",
   "execution_count": 18,
   "metadata": {},
   "outputs": [
    {
     "data": {
      "text/plain": [
       "'\\nÇoklu\\nYorum\\nSatırı\\n'"
      ]
     },
     "execution_count": 18,
     "metadata": {},
     "output_type": "execute_result"
    }
   ],
   "source": [
    "# Tekli Yorum Satırı\n",
    "\"\"\"\n",
    "Çoklu\n",
    "Yorum\n",
    "Satırı\n",
    "\"\"\"\n",
    "# Çoklu yorum satırı jupyter'da işlevsizdir, fakat python'da kullanırsan işlevli olduğunu görürsün."
   ]
  },
  {
   "attachments": {},
   "cell_type": "markdown",
   "metadata": {},
   "source": [
    "# VARIABLES - DEĞİŞKENLER\n",
    "* Değişkenler bir verinin değerini saklamayı sağlar\n",
    "* Değişkenler verilerin sonradan değiştirilmesine olanak sağladığı için çok kullanuşlıdır.\n",
    "* Kodlar sırayla çalışır\n"
   ]
  },
  {
   "cell_type": "code",
   "execution_count": 20,
   "metadata": {},
   "outputs": [
    {
     "data": {
      "text/plain": [
       "'PythonPythonPythonPythonPython'"
      ]
     },
     "execution_count": 20,
     "metadata": {},
     "output_type": "execute_result"
    }
   ],
   "source": [
    "a=5\n",
    "b=\"Python\"\n",
    "a*b"
   ]
  },
  {
   "attachments": {},
   "cell_type": "markdown",
   "metadata": {},
   "source": [
    "## Değişken Tanımlama Kuralları\n",
    "* Değişken adlarına sayılar, harfler ya da alt çizgi kullanılabilir. Ama değişken isimlendirmeleri alt çizgi ya da harfle başlar.\n",
    "1aliaygul = 5 (hatalı)\n",
    "aliaygul1 = 5 (doğru)\n",
    "_aliaygul = 5 (doğru)\n",
    "* Değişken adlandırılırken Türkçe karakter kullanılır.\n",
    "* Değişken adlandırılırken boşluk bırakılmaz. \n",
    "* Değişken isimlerinin adı Python için ayrılmış kelimelerden (if,elifi else vs.) oluşamaz. Ya da isimde - sembolü kullanılamaz.\n",
    "* Büyük küçük harf duyarlıdır"
   ]
  },
  {
   "attachments": {},
   "cell_type": "markdown",
   "metadata": {},
   "source": [
    "# type() Komutu\n",
    "* Bir değişkenin integer (tamsayı), float (ondalıklı), string (sözcük) ya da boolean olup olmadığını verir. Yani veri tipini verir. "
   ]
  },
  {
   "cell_type": "code",
   "execution_count": 27,
   "metadata": {},
   "outputs": [
    {
     "name": "stdout",
     "output_type": "stream",
     "text": [
      "<class 'int'> <class 'float'> <class 'str'> <class 'bool'>\n"
     ]
    }
   ],
   "source": [
    "a = 5\n",
    "b = 5.5\n",
    "c = \"ALİ\"\n",
    "d = False \n",
    "print(type(a),type(b),type(c),type(d))"
   ]
  },
  {
   "attachments": {},
   "cell_type": "markdown",
   "metadata": {},
   "source": [
    "# Sayı ve Veri Türleri\n",
    "## int\n",
    "* Tam sayılardır\n",
    "* 5, 10, 15\n",
    "## float\n",
    "* Ondalıklı sayılardır\n",
    "* 5.10, 7.48\n",
    "\n",
    "# Matematiksel İşlemler\n",
    "## Aritmetik Operatörler\n",
    "* Toplama (+)\n",
    "* Çıkartma (-)\n",
    "* Çarpma (*)\n",
    "* Bölme (/)\n",
    "* Üs Alma (**)\n",
    "* Mod Alma (%)\n",
    "* Tam Bölme (//)\n",
    "\n",
    "# String\n",
    "* Metinsel ifadelerdir\n",
    "* \" \", '', \"\"\" \"\"\" arasına yazılması gerekir\n",
    "* Hangi tırnak ile başlandıysa o tırnak ile kapatılması gerekir\n",
    "* İndex ile ulaşma imkanı sağlar, mesela;"
   ]
  },
  {
   "cell_type": "code",
   "execution_count": 28,
   "metadata": {},
   "outputs": [
    {
     "name": "stdout",
     "output_type": "stream",
     "text": [
      "i\n"
     ]
    }
   ],
   "source": [
    "a=\"ali baba naber\"\n",
    "print(a[2]) #  burada ali'nin a'sı 0. ,l 2. , i 3. dür.\n"
   ]
  },
  {
   "cell_type": "code",
   "execution_count": 30,
   "metadata": {},
   "outputs": [
    {
     "name": "stdout",
     "output_type": "stream",
     "text": [
      "Naber İyi Misin\n"
     ]
    }
   ],
   "source": [
    "a = \"Naber \"\n",
    "b = \"İyi Misin\"\n",
    "print(a+b)"
   ]
  },
  {
   "cell_type": "code",
   "execution_count": 33,
   "metadata": {},
   "outputs": [
    {
     "name": "stdout",
     "output_type": "stream",
     "text": [
      "Ali Aygül 21 yaşında\n"
     ]
    }
   ],
   "source": [
    "a = \"Ali\"\n",
    "b = \"Aygül\"\n",
    "c = \"21 yaşında\"\n",
    "# formatlama tekniği\n",
    "print(f\"{a} {b} {c}\")"
   ]
  },
  {
   "attachments": {},
   "cell_type": "markdown",
   "metadata": {},
   "source": [
    "# BOOLEAN\n",
    "* Sadece true ya da false değerini döndürür"
   ]
  },
  {
   "cell_type": "code",
   "execution_count": 34,
   "metadata": {},
   "outputs": [
    {
     "name": "stdout",
     "output_type": "stream",
     "text": [
      "True <class 'bool'>\n"
     ]
    }
   ],
   "source": [
    "a = True\n",
    "print(a,type(a))"
   ]
  },
  {
   "attachments": {},
   "cell_type": "markdown",
   "metadata": {},
   "source": [
    "# input() \n",
    "* Kullanıcıdan veri girişi almamızı sağlar\n",
    "* input ile veri alınırken string gibi davranır bu yüzden input alırken sayı alacaksan int ya da float kullan "
   ]
  },
  {
   "cell_type": "code",
   "execution_count": 35,
   "metadata": {},
   "outputs": [
    {
     "name": "stdout",
     "output_type": "stream",
     "text": [
      "Merhaba Ali\n"
     ]
    }
   ],
   "source": [
    "isim = input(\"İsim Gir:\")\n",
    "print(f\"Merhaba {isim}\")"
   ]
  },
  {
   "cell_type": "code",
   "execution_count": 41,
   "metadata": {},
   "outputs": [
    {
     "name": "stdout",
     "output_type": "stream",
     "text": [
      "Girdiğiniz Sayıların Toplamı 9.0\n"
     ]
    }
   ],
   "source": [
    "sayi1 = float(input(\"Birinci Sayıyı Giriniz:\"))\n",
    "sayi2 = float(input(\"İkinci Sayılıyı Giriniz:\"))\n",
    "print(f\"Girdiğiniz Sayıların Toplamı {sayi1+sayi2}\")\n",
    "# Burada float(input) olarak yazınca sonuç otomatik olarak ondalıklı olarak çıktı, fakat int(input) olarak yazsaydık tam sayı olarak çıkardı sonuç. "
   ]
  }
 ],
 "metadata": {
  "kernelspec": {
   "display_name": "Python 3",
   "language": "python",
   "name": "python3"
  },
  "language_info": {
   "codemirror_mode": {
    "name": "ipython",
    "version": 3
   },
   "file_extension": ".py",
   "mimetype": "text/x-python",
   "name": "python",
   "nbconvert_exporter": "python",
   "pygments_lexer": "ipython3",
   "version": "3.11.1"
  },
  "orig_nbformat": 4,
  "vscode": {
   "interpreter": {
    "hash": "afae143006f5e9352d1b88dae4ee76383be65966ca9371e05ecd50b7a73c3b58"
   }
  }
 },
 "nbformat": 4,
 "nbformat_minor": 2
}
