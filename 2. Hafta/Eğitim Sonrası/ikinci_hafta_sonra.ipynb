{
 "cells": [
  {
   "attachments": {},
   "cell_type": "markdown",
   "metadata": {},
   "source": []
  }
 ],
 "metadata": {
  "kernelspec": {
   "display_name": "Python 3",
   "language": "python",
   "name": "python3"
  },
  "language_info": {
   "name": "python",
   "version": "3.11.1"
  },
  "orig_nbformat": 4,
  "vscode": {
   "interpreter": {
    "hash": "afae143006f5e9352d1b88dae4ee76383be65966ca9371e05ecd50b7a73c3b58"
   }
  }
 },
 "nbformat": 4,
 "nbformat_minor": 2
}
