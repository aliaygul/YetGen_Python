{
 "cells": [
  {
   "attachments": {},
   "cell_type": "markdown",
   "metadata": {},
   "source": [
    "# Problem 1\n",
    "\n",
    "Şimdi beraber kullanıcılardan aldığımız verileri işleyerek, onlara hem çıktı verecek, hem de aldığımız ve hesapladığımız verileri ileride kullanabilmek adına kaydedeceğiz.\n",
    "\n",
    "\n",
    " **Bu bir veri giriş platformu olacak**\n",
    "\n",
    "\n",
    " * kullanıcıya kaç giriş yapacağını soracağız\n",
    "* kullanıcıdan isim-soyisim, yaş, boy, kilo bilgilerini alarak VKİ hesaplayacağız\n",
    "* ardından bunları sınıflara göre kaydedeceğiz bir dosyaya kaydedeceğiz\n",
    "\n",
    "\n",
    "Sınıflar ise şu şekilde: \n",
    "* 18, 5 kg/m.'nin altında olanlar: Zayıf\n",
    "* 18.5 – 24, 9 kg/m. arasında olanlar: Normal kilolu\n",
    "* 25 – 29, 9 kg/m. arasında olanlar: Fazla kilolu\n",
    "* 30 – 39, 9 kg/m. arasında olanlar: Obez\n",
    "* 40 kg/m.'nin üzerinde olanlar: İleri derecede obez (morbid obez), olarak görülür."
   ]
  },
  {
   "cell_type": "code",
   "execution_count": 2,
   "metadata": {},
   "outputs": [
    {
     "ename": "NameError",
     "evalue": "name 'isim' is not defined",
     "output_type": "error",
     "traceback": [
      "\u001b[1;31m---------------------------------------------------------------------------\u001b[0m",
      "\u001b[1;31mNameError\u001b[0m                                 Traceback (most recent call last)",
      "Cell \u001b[1;32mIn[2], line 22\u001b[0m\n\u001b[0;32m     20\u001b[0m \u001b[39mdef\u001b[39;00m \u001b[39mcikti_olustur\u001b[39m(isim, yas, boy, vki, deger):\n\u001b[0;32m     21\u001b[0m     kayit_tarihi\u001b[39m=\u001b[39m time\u001b[39m.\u001b[39mctime(time\u001b[39m.\u001b[39mtime())\n\u001b[1;32m---> 22\u001b[0m t1\u001b[39m=\u001b[39m\u001b[39mf\u001b[39m\u001b[39m\"\u001b[39m\u001b[39mkullanıcı adı: \u001b[39m\u001b[39m{\u001b[39;00misim\u001b[39m}\u001b[39;00m\u001b[39m\\n\u001b[39;00m\u001b[39m\"\u001b[39m\n\u001b[0;32m     23\u001b[0m t2\u001b[39m=\u001b[39m \u001b[39mf\u001b[39m\u001b[39m\"\u001b[39m\u001b[39mkullanıcının yaş, kilo, boy bilgisi \u001b[39m\u001b[39m{\u001b[39;00myas\u001b[39m}\u001b[39;00m\u001b[39m, \u001b[39m\u001b[39m{\u001b[39;00mkilo\u001b[39m}\u001b[39;00m\u001b[39m, \u001b[39m\u001b[39m{\u001b[39;00mboy\u001b[39m}\u001b[39;00m\u001b[39m\\n\u001b[39;00m\u001b[39m\"\u001b[39m\n\u001b[0;32m     24\u001b[0m t3\u001b[39m=\u001b[39m \u001b[39mf\u001b[39m\u001b[39m\"\u001b[39m\u001b[39mkullanıcının vücut kitle endeksi \u001b[39m\u001b[39m{\u001b[39;00mvki\u001b[39m}\u001b[39;00m\u001b[39m\\n\u001b[39;00m\u001b[39m\"\u001b[39m\n",
      "\u001b[1;31mNameError\u001b[0m: name 'isim' is not defined"
     ]
    }
   ],
   "source": [
    "# 1.Problemin Çözümünü Buraya Yazınız\n",
    "import time\n",
    "\n",
    "def vki_hesaplama(kilo,boy):\n",
    "    vki=kilo/(boy**2)\n",
    "    # vki değişkeninin virgülden sonra 1 basamağını gösterip döndürelim\n",
    "    return round(vki,1)\n",
    "# deger_araligi isimli bir fonksiyon oluşturup vki parametresini atayalım\n",
    "def deger_araligi(vki):\n",
    "    if vki<18.5:\n",
    "        return \"Zayıf\"\n",
    "    elif vki <= 24.9:\n",
    "        return\"Normal Kilolu\"\n",
    "    elif vki<=29.9:\n",
    "        return \"Fazla Kilolu\"\n",
    "    elif vki <= 39.9:\n",
    "        return \"Obez\"\n",
    "    elif vki<=40:\n",
    "        return \"İleri Obez\"\n",
    "def cikti_olustur(isim, yas, boy, vki, deger):\n",
    "    kayit_tarihi= time.ctime(time.time())\n",
    "t1=f\"kullanıcı adı: {isim}\\n\"\n",
    "t2= f\"kullanıcının yaş, kilo, boy bilgisi {yas}, {kilo}, {boy}\\n\"\n",
    "t3= f\"kullanıcının vücut kitle endeksi {vki}\\n\"\n",
    "t4= f\"değer aralığı {deger}\\n\"\n",
    "t5= f\"katır tarihi:{kayit_tarihi}\\n\"\n",
    "output=t1+t2+t3+t4+t5\n",
    "return output\n",
    "def main():\n",
    "    giris_sayisi=int(input(\"kaç kullanıcı verisi gireceksiniz:\"))\n",
    "    for i in range(giriş_sayisi):\n",
    "        print(f\"kullanıcı kaydı: {i+1}\")\n",
    "        isim=input(\"isim soyisim:\")\n",
    "        yas= int(input(\"yaşınız:\"))\n",
    "        kilo = float(input(\"kilonuz:\"))\n",
    "        boy= float(input(\"boy:\"))\n",
    "        vki= vki_hesaplama(kilo,boy)\n",
    "        deger=deger_araligi(vki)\n",
    "        output=cikti_olsuturur(isim,yas,kilo,boy,vki,deger)\n",
    "        with open(\"Sağlık.txt\",\"a\") as f:\n",
    "            f.write(output)\n",
    "            f.write(\"*\"*20)\n",
    "            f.write(\"\\n\")\n",
    "            print(\"kullanıcı kaydedildi\")\n",
    "            print(\"veriler 'Saglık.txt' dosyasına kaydedildi.  \\n\")\n",
    "main()"
   ]
  },
  {
   "attachments": {},
   "cell_type": "markdown",
   "metadata": {},
   "source": [
    "# Problem 2\n",
    "**YetBar - Smoothie Bank**\n",
    "---\n",
    "YetBar spor salonunun girişinde bulunan, insansız bir sağlıklı içecek otomatıdır. Kullanıcı çeşitli girdiler smoothie içeceğine koyacağı ürünleri belirleyebilir, fiyat hesaplaması yaptırabilir ya da sadece menüyü görüntüleyebilir.\n",
    "\n",
    "**Projenin Amacı:**\n",
    "\n",
    "*   Birbirini etkileyen ve bir kod içerisinde birden fazla defa başvurulacak fonksiyonların oluşturulup, \"fonksiyonel\" proglamlamak.\n",
    "*   Büyük programları yazarken, yazılımcı olarak yapabileceğimiz hatalardan kaçınmak için kontrol yöntemleri geliştirmek.\n",
    "*   Kullanıcı inputlarını ve yaptığımız hesapları, raporlamak/loglamak amacıyla kaydetmek.\n",
    "\n",
    "**Programdan Beklenen Çıktılar**\n",
    "* Program kullanıcıya temelde 2 farklı işlem yapma imkanı sağlar.\n",
    "> 1. Menüyü görüntüleme\n",
    "> 3. Satın alma\n",
    "* Satın alınan her içecek tarih, fiyat bilgisi ile kaydedilmeli ve her zaman ulaşılabilir olmalıdır.\n",
    "\n",
    "\n"
   ]
  },
  {
   "cell_type": "code",
   "execution_count": null,
   "metadata": {},
   "outputs": [],
   "source": [
    "# 2.Problemin Çözümünü Buraya Yazınız"
   ]
  }
 ],
 "metadata": {
  "kernelspec": {
   "display_name": "Python 3",
   "language": "python",
   "name": "python3"
  },
  "language_info": {
   "codemirror_mode": {
    "name": "ipython",
    "version": 3
   },
   "file_extension": ".py",
   "mimetype": "text/x-python",
   "name": "python",
   "nbconvert_exporter": "python",
   "pygments_lexer": "ipython3",
   "version": "3.11.1"
  },
  "orig_nbformat": 4,
  "vscode": {
   "interpreter": {
    "hash": "5026d2d6e7aaaaba093def813beadff083d8733e4a511af01735cbabd156995d"
   }
  }
 },
 "nbformat": 4,
 "nbformat_minor": 2
}
