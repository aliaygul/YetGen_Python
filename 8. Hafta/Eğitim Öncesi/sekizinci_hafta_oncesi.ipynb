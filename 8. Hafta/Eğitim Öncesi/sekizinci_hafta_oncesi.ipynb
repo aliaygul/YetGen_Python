{
 "cells": [
  {
   "attachments": {},
   "cell_type": "markdown",
   "metadata": {},
   "source": [
    "# Dosya Okuma İşlemleri\n",
    "\n",
    "* Dosyayı açmak ve oluşturmak için open() kullanılır.\n",
    "* open(dosyaIsmi, dosyaModu)\n",
    "* Dosya Modu: Dosyayı hangi modda açacağını belirtir.\n",
    "* r: Okuma modunda açmayı sağlar. Belirtilen konumda dosya olması gerekir.\n",
    "* close(): Dosyayı kapatır. "
   ]
  },
  {
   "cell_type": "code",
   "execution_count": 25,
   "metadata": {},
   "outputs": [
    {
     "name": "stdout",
     "output_type": "stream",
     "text": [
      "<_io.TextIOWrapper name='bilgiler.txt' mode='r' encoding='cp1254'>\n"
     ]
    }
   ],
   "source": [
    "a=open(\"bilgiler.txt\")\n",
    "print(a)"
   ]
  },
  {
   "cell_type": "code",
   "execution_count": 26,
   "metadata": {},
   "outputs": [
    {
     "name": "stdout",
     "output_type": "stream",
     "text": [
      "Ben bu dosyayı bulamadım\n"
     ]
    }
   ],
   "source": [
    "try:\n",
    "    file = open(\"bilgiler2.txt\",\"r\",encoding=\"utf-8\") # utf-8 Türkçe karakterlerin okunmasını sağlar\n",
    "except:\n",
    "    print(\"Ben bu dosyayı bulamadım\")"
   ]
  },
  {
   "cell_type": "code",
   "execution_count": 27,
   "metadata": {},
   "outputs": [
    {
     "name": "stdout",
     "output_type": "stream",
     "text": [
      "Deneme\n",
      "\n",
      "Selameme\n",
      "\n",
      "deneme\n",
      "\n"
     ]
    }
   ],
   "source": [
    "file=open(\"bilgiler.txt\",\"r\",encoding=\"utf-8\")\n",
    "\n",
    "for i in file:\n",
    "    print(i)\n",
    "file.close()"
   ]
  },
  {
   "attachments": {},
   "cell_type": "markdown",
   "metadata": {},
   "source": [
    "## read() fonksiyonu\n",
    "read() fonksiyonu eğer içine hiçbir değer vermezsek bütün dosyamızı okuyacaktır."
   ]
  },
  {
   "cell_type": "code",
   "execution_count": 28,
   "metadata": {},
   "outputs": [
    {
     "name": "stdout",
     "output_type": "stream",
     "text": [
      "İçerik Okumasına Hoş Geldiniz \n",
      "Deneme\n",
      "Selameme\n",
      "deneme\n",
      "\n"
     ]
    }
   ],
   "source": [
    "file=open(\"bilgiler.txt\",\"r\",encoding=\"utf-8\")\n",
    "icerik = file.read()\n",
    "print(\"İçerik Okumasına Hoş Geldiniz \\n\", icerik, sep=\"\")\n",
    "file.close()"
   ]
  },
  {
   "attachments": {},
   "cell_type": "markdown",
   "metadata": {},
   "source": [
    "* read() fonksiyonuyla bir dosyayı okuduğumuzda dosya imlecimiz dosyanın en sonuna gider ve read() fonksiyonu 2. okuma da artık boş string döner.\n",
    "\n",
    "## readline()\n",
    "* Her çalıştırıldığında bir satır okur.\n"
   ]
  },
  {
   "cell_type": "code",
   "execution_count": 29,
   "metadata": {},
   "outputs": [
    {
     "name": "stdout",
     "output_type": "stream",
     "text": [
      "Deneme\n",
      "\n"
     ]
    }
   ],
   "source": [
    "file=open(\"bilgiler.txt\",\"r\",encoding=\"utf-8\")\n",
    "print(file.readline())\n"
   ]
  },
  {
   "cell_type": "code",
   "execution_count": 30,
   "metadata": {},
   "outputs": [
    {
     "name": "stdout",
     "output_type": "stream",
     "text": [
      "Selameme\n",
      "\n"
     ]
    }
   ],
   "source": [
    "print(file.readline())"
   ]
  },
  {
   "attachments": {},
   "cell_type": "markdown",
   "metadata": {},
   "source": [
    "* readlines() fonksiyonu readlines() fonksiyonu dosyanın bütün satırlarını bir liste şeklinde döner."
   ]
  },
  {
   "cell_type": "code",
   "execution_count": 31,
   "metadata": {},
   "outputs": [
    {
     "name": "stdout",
     "output_type": "stream",
     "text": [
      "['deneme\\n']\n"
     ]
    }
   ],
   "source": [
    "print(file.readlines())"
   ]
  },
  {
   "attachments": {},
   "cell_type": "markdown",
   "metadata": {},
   "source": [
    "# Dosyaya Yazma \n",
    "* w: Yazma modu. Dosyayı konumda oluşturur. Eğer dosya mevcut ise, dosyayı siler ve yeni bir dosya oluşturur. write fonksiyonu ile dosyamıza yazıyoruz.\n",
    "\n",
    "* a: append(ekleme) modudur. Dosya konumda varsa oluşturur, dosya konumda varsa ekleme işlemi yapar.\n",
    "\n",
    "* r+: Hem okuma hem yazma modudur. Dosya konumda yoksa hata verir."
   ]
  },
  {
   "cell_type": "code",
   "execution_count": 32,
   "metadata": {},
   "outputs": [
    {
     "data": {
      "text/plain": [
       "6"
      ]
     },
     "execution_count": 32,
     "metadata": {},
     "output_type": "execute_result"
    }
   ],
   "source": [
    "file=open(\"bilgiler.txt\",\"w\",encoding=\"utf-8\")\n",
    "file.write(\"Osman\\n\")"
   ]
  },
  {
   "cell_type": "code",
   "execution_count": 33,
   "metadata": {},
   "outputs": [
    {
     "data": {
      "text/plain": [
       "4"
      ]
     },
     "execution_count": 33,
     "metadata": {},
     "output_type": "execute_result"
    }
   ],
   "source": [
    "file=open(\"bilgiler.txt\",\"a\",encoding=\"utf-8\")\n",
    "file.write(\"Ali\\n\")"
   ]
  },
  {
   "cell_type": "code",
   "execution_count": 34,
   "metadata": {},
   "outputs": [],
   "source": [
    "file=open(\"bilgiler.txt\",\"r+\",encoding=\"utf-8\")\n",
    "file.write(\"Nasılsın\\n\")\n",
    "file.read()\n",
    "file.close()"
   ]
  },
  {
   "attachments": {},
   "cell_type": "markdown",
   "metadata": {},
   "source": [
    "# Dosyaları Otomatik Kapatma\n",
    "\n",
    "* with open(dosya_adı,dosya_kipi) as file:\n",
    "    dosya işlemleri"
   ]
  },
  {
   "cell_type": "code",
   "execution_count": 35,
   "metadata": {},
   "outputs": [
    {
     "name": "stdout",
     "output_type": "stream",
     "text": [
      "Nasılsın\n",
      "\n"
     ]
    }
   ],
   "source": [
    "with open(\"bilgiler.txt\",\"r\",encoding=\"utf-8\") as file:\n",
    "    for i in file :\n",
    "        print(i)"
   ]
  },
  {
   "attachments": {},
   "cell_type": "markdown",
   "metadata": {},
   "source": [
    "# Dosyada İleri-Geri Sarmak\n",
    "* seek() metodunu kullanarak istediğiniz bayt konumuna dönebilirsiniz\n",
    "* Dosyanın hangi bayt konumunda bulunduğunuzu öğrenmek isterseniz de tell() metodunu kullanabilirsiniz."
   ]
  },
  {
   "cell_type": "code",
   "execution_count": 36,
   "metadata": {},
   "outputs": [
    {
     "name": "stdout",
     "output_type": "stream",
     "text": [
      "20\n"
     ]
    }
   ],
   "source": [
    "with open(\"bilgiler.txt\",\"r\",encoding=\"utf-8\") as file:\n",
    "    file.seek(20)\n",
    "    print(file.tell())"
   ]
  },
  {
   "cell_type": "code",
   "execution_count": 37,
   "metadata": {},
   "outputs": [
    {
     "name": "stdout",
     "output_type": "stream",
     "text": [
      "lsın\n",
      "\n",
      "Nasıls\n"
     ]
    }
   ],
   "source": [
    "with open(\"bilgiler.txt\",\"r\",encoding=\"utf-8\") as file:\n",
    "    file.seek(5)\n",
    "    icerik=file.read(10)\n",
    "    print(icerik)\n",
    "    file.seek(0)\n",
    "    icerik2=file.read(6)\n",
    "    print(icerik2)"
   ]
  },
  {
   "attachments": {},
   "cell_type": "markdown",
   "metadata": {},
   "source": [
    "# Dosyanın Sonunda Değişiklik Yapmak"
   ]
  },
  {
   "cell_type": "code",
   "execution_count": 38,
   "metadata": {},
   "outputs": [],
   "source": [
    "with open(\"bilgiler.txt\",\"r+\",encoding=\"utf-8\") as file:\n",
    "    file.seek(10)\n",
    "    file.write(\"deneme\")\n"
   ]
  },
  {
   "cell_type": "code",
   "execution_count": 39,
   "metadata": {},
   "outputs": [
    {
     "name": "stdout",
     "output_type": "stream",
     "text": [
      "Nasılsındeneme\n"
     ]
    }
   ],
   "source": [
    "with open(\"bilgiler.txt\",\"r+\",encoding=\"utf-8\") as file:\n",
    "    print(file.read())"
   ]
  },
  {
   "attachments": {},
   "cell_type": "markdown",
   "metadata": {},
   "source": [
    "# Dosyanın Başında Değişiklik Yapmak"
   ]
  },
  {
   "cell_type": "code",
   "execution_count": 40,
   "metadata": {},
   "outputs": [],
   "source": [
    "with open(\"bilgiler.txt\",\"r+\",encoding=\"utf-8\") as file:\n",
    "    icerik=file.read()\n",
    "    içerik=\"Deneme\\n\" + \"Selam\"\n",
    "    file.seek(0)\n",
    "    file.write(içerik)"
   ]
  },
  {
   "cell_type": "code",
   "execution_count": 41,
   "metadata": {},
   "outputs": [
    {
     "name": "stdout",
     "output_type": "stream",
     "text": [
      "Deneme\n",
      "Selameme\n"
     ]
    }
   ],
   "source": [
    " with open(\"bilgiler.txt\",\"r+\",encoding=\"utf-8\") as file:\n",
    "    print(file.read())"
   ]
  },
  {
   "attachments": {},
   "cell_type": "markdown",
   "metadata": {},
   "source": [
    "# Dosya Ortasında Değişiklik Yapma"
   ]
  },
  {
   "cell_type": "code",
   "execution_count": 42,
   "metadata": {},
   "outputs": [],
   "source": [
    "with open(\"bilgiler.txt\",\"r+\",encoding=\"utf-8\") as file:\n",
    "    liste = file.readlines()\n",
    "    liste.insert(3,\"deneme\\n\")\n",
    "    file.seek(0)\n",
    "    file.writelines(liste)"
   ]
  },
  {
   "cell_type": "code",
   "execution_count": 43,
   "metadata": {},
   "outputs": [
    {
     "name": "stdout",
     "output_type": "stream",
     "text": [
      "Deneme\n",
      "Selamemedeneme\n",
      "\n",
      "Nasılsındeneme\n"
     ]
    }
   ],
   "source": [
    "with open(\"bilgiler.txt\",\"r+\",encoding=\"utf-8\") as file:\n",
    "    print(file.read())\n",
    "    print(icerik)"
   ]
  },
  {
   "attachments": {},
   "cell_type": "markdown",
   "metadata": {},
   "source": [
    "# Nesne Yönelimli Programlama \n",
    "* DRY(Dont't repeat yourself)'den kurtarır.\n",
    "\n",
    "# Class\n",
    "* Sınıflar objelerimizi oluştururken objelerin özelliklerini ve metodlarını tanımladığımız bir yapıdır.\n"
   ]
  },
  {
   "cell_type": "code",
   "execution_count": 44,
   "metadata": {},
   "outputs": [],
   "source": [
    "class Araba():\n",
    "    #Sınıf Özellikleri(Attribute)\n",
    "    model=\"Renault Megane\"\n",
    "    renk=\"Gümüş\"\n",
    "    beygir_gucu=110\n",
    "    silindir=4\n",
    "    "
   ]
  },
  {
   "attachments": {},
   "cell_type": "markdown",
   "metadata": {},
   "source": [
    "### Obje Oluşturma \n",
    "\n",
    "obje_ismi = Sınıf_İsmi(parametreler(opsiyonel))\n",
    "\n",
    "### Özelliklere Erişme\n",
    "\n",
    "obje_ismi.özellik_ismi"
   ]
  },
  {
   "cell_type": "code",
   "execution_count": 45,
   "metadata": {},
   "outputs": [
    {
     "name": "stdout",
     "output_type": "stream",
     "text": [
      "Renault Megane\n",
      "Gümüş\n",
      "110\n",
      "4\n"
     ]
    }
   ],
   "source": [
    "arab1 = Araba()\n",
    "print(arab1.model)\n",
    "print(arab1.renk)\n",
    "print(arab1.beygir_gucu)\n",
    "print(arab1.silindir)"
   ]
  },
  {
   "cell_type": "code",
   "execution_count": 46,
   "metadata": {},
   "outputs": [
    {
     "name": "stdout",
     "output_type": "stream",
     "text": [
      "Kuş\n"
     ]
    }
   ],
   "source": [
    "class Animal:\n",
    "    name=\"Kuş\"\n",
    "    print(name)"
   ]
  },
  {
   "attachments": {},
   "cell_type": "markdown",
   "metadata": {},
   "source": [
    "# init()\n",
    "\n",
    "Python'da yapıcı (constructor) fonksiyon olarak tanımlanmaktadır. Bu metod objelerimiz oluşturulurken otomatik olarak ilk çağırılan fonksiyondur.  Bu metodu özel olarak tanımlayarak objelerimizi farklı değerlerle oluşturabiliriz."
   ]
  },
  {
   "attachments": {},
   "cell_type": "markdown",
   "metadata": {},
   "source": [
    "Yani, __init__ metodu, bir sınıfın özelliklerinin (attribute) başlangıç değerlerini belirlemek için kullanılır. __init__ metodunun ilk parametresi her zaman self'dir ve bu, sınıfın örneğini temsil eder."
   ]
  },
  {
   "cell_type": "code",
   "execution_count": 2,
   "metadata": {},
   "outputs": [],
   "source": [
    "class Person:\n",
    "    def __init__(self, name, age):\n",
    "        self.name = name\n",
    "        self.age = age"
   ]
  },
  {
   "attachments": {},
   "cell_type": "markdown",
   "metadata": {},
   "source": [
    "Bu Person sınıfı, name ve age özelliklerine sahip bir kişiyi temsil eder. __init__ metodu, sınıf örneği oluşturulduğunda (Person(\"John\", 30) gibi) name ve age özelliklerinin değerlerini başlatır.\n",
    "\n",
    "\n",
    "\n",
    "\n",
    "\n"
   ]
  },
  {
   "cell_type": "code",
   "execution_count": 47,
   "metadata": {},
   "outputs": [
    {
     "name": "stdout",
     "output_type": "stream",
     "text": [
      "İnit Fonksiyonu Çalıştı\n"
     ]
    }
   ],
   "source": [
    "class Araba():\n",
    "    def __init__(self): # Self anahtar kelimesi objeyi oluşturduğumuz zaman o objeyi gösteren bir referanstır ve metodlarımızda en başta bulunması gereken bir parametredir.\n",
    "        print(\"İnit Fonksiyonu Çalıştı\")\n",
    "araba=Araba()"
   ]
  },
  {
   "cell_type": "code",
   "execution_count": 48,
   "metadata": {},
   "outputs": [
    {
     "name": "stdout",
     "output_type": "stream",
     "text": [
      "Peugeout 301\n"
     ]
    }
   ],
   "source": [
    "class Araba():\n",
    "    def __init__(self,model,renk,beygir,silindir):\n",
    "        self.model = model\n",
    "        self.renk=renk\n",
    "        self.beygir=beygir\n",
    "        self.silindir=silindir\n",
    "\n",
    "araba2=Araba(\"Peugeout 301\",\"Beyaz\",90,4)\n",
    "print(araba2.model)"
   ]
  },
  {
   "attachments": {},
   "cell_type": "markdown",
   "metadata": {},
   "source": [
    "# Uygulama\n",
    "* Comment isminde bir sınıf oluşturunuz.\n",
    "* Comment sınıfı username, text, likes, dislikes isminde özelliklere sahip olsun,\n",
    "* 5 adet farklı comment oluşturup döngü yardımıyla yorumları ekrana bastırınız."
   ]
  },
  {
   "cell_type": "code",
   "execution_count": 49,
   "metadata": {},
   "outputs": [
    {
     "name": "stdout",
     "output_type": "stream",
     "text": [
      "Berkcan:Python Öğreniyorum yorumunu yapıp 34 beğeni aldı, 5 kadar dislike aldı\n",
      "Ali:Jumperlar Çok Güzel Çalışıyorlar yorumunu yapıp 500 beğeni aldı, 8 kadar dislike aldı\n",
      "Osman:Python zorlaştı he yorumunu yapıp 50 beğeni aldı, 100 kadar dislike aldı\n"
     ]
    }
   ],
   "source": [
    "class Comment:\n",
    "    def __init__(self,username,text,likes,dislikes):\n",
    "        self.username=username\n",
    "        self.text=text\n",
    "        self.likes=likes\n",
    "        self.dislikes=dislikes\n",
    "c1=Comment(\"Berkcan\",\"Python Öğreniyorum\",34,5)\n",
    "c2= Comment(\"Ali\",\"Jumperlar Çok Güzel Çalışıyorlar\",500,8)\n",
    "c3=Comment(\"Osman\",\"Python zorlaştı he\",50,100)\n",
    "comments=(c1,c2,c3)\n",
    "for c in comments:\n",
    "    print(f\"{c.username}:{ c.text} yorumunu yapıp { c.likes} beğeni aldı, { c.dislikes} kadar dislike aldı\")\n"
   ]
  },
  {
   "cell_type": "code",
   "execution_count": null,
   "metadata": {},
   "outputs": [],
   "source": []
  }
 ],
 "metadata": {
  "kernelspec": {
   "display_name": "Python 3",
   "language": "python",
   "name": "python3"
  },
  "language_info": {
   "codemirror_mode": {
    "name": "ipython",
    "version": 3
   },
   "file_extension": ".py",
   "mimetype": "text/x-python",
   "name": "python",
   "nbconvert_exporter": "python",
   "pygments_lexer": "ipython3",
   "version": "3.11.1"
  },
  "orig_nbformat": 4
 },
 "nbformat": 4,
 "nbformat_minor": 2
}
