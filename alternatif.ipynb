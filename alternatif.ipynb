{
 "cells": [
  {
   "cell_type": "code",
   "execution_count": null,
   "metadata": {},
   "outputs": [],
   "source": [
    "import time\n",
    "print(\"Yet Sinema'ya Hoş Geldiniz\")\n",
    "while True:\n",
    "    vizyon_goruntuleme = input(\"Vizyondaki filmleri görüntülemek için lütfen q'ya basınız, sonlandırmak için lütfen e'ye basınız...\")\n",
    "\n",
    "    if vizyon_goruntuleme.lower() == \"e\":\n",
    "        print(\"Sonlandırılıyor...\")\n",
    "        break\n",
    "    elif vizyon_goruntuleme.lower() == \"q\":\n",
    "        vizyon_filmler = [\"The Silence of the lambs\", \"Saving Private Ryan\", \"City of god\", \"Interstellar\", \"Terminator 2: Judgement Day\"]\n",
    "        print(vizyon_filmler)\n",
    "        time.sleep(3)\n",
    "        print(\"Bazı filmler +18'dir. Lütfen o filme gitmek istiyorsanız kimliğinizi hazırlayınız... Şimdi yapay zeka asistanımıza aktarıyorum...\")\n",
    "        time.sleep(3)\n",
    "        break\n",
    "class AI:\n",
    "    def __init__(self):\n",
    "        self.name = \"AI\"\n",
    "    \n",
    "    def greet(self):\n",
    "        print(f\"{self.name}: Merhaba! Ben bir yapay zeka.\")\n",
    "\n",
    "    def make_decision(self, age):\n",
    "        if age < 18:\n",
    "            return \"Bu içerik sadece yetişkinlere yöneliktir.\"\n",
    "        else:\n",
    "            return \"İçeriği görüntüleyebilirsiniz.\"\n",
    "\n",
    "    def interact(self):\n",
    "        while True:\n",
    "            try:\n",
    "                user_input = input(\"Yaşınızı girin (çıkmak için 'q' ya da 'Q' tuşuna basın): \")\n",
    "                if user_input.lower() == 'q':\n",
    "                    break\n",
    "                age = int(user_input)\n",
    "                decision = self.make_decision(age)\n",
    "                print(f\"{self.name}: {decision}\")\n",
    "            except ValueError:\n",
    "                print(f\"{self.name}: Geçersiz giriş. Lütfen bir sayı girin.\")\n",
    "\n",
    "ai = AI()\n",
    "ai.greet()\n",
    "ai.interact()\n"
   ]
  },
  {
   "cell_type": "code",
   "execution_count": 1,
   "metadata": {},
   "outputs": [
    {
     "name": "stdout",
     "output_type": "stream",
     "text": [
      "Yet Sinema'ya Hoş Geldiniz\n",
      "['The Silence of the Lambs', 'Saving Private Ryan', 'City of God', 'Interstellar', 'Terminator 2: Judgement Day']\n",
      "Film izlemek için yaşınız uygun, keyifli seyirler!\n",
      "Geçersiz seçenek. Lütfen tekrar deneyin.\n",
      "Geçersiz seçenek. Lütfen tekrar deneyin.\n",
      "Geçersiz seçenek. Lütfen tekrar deneyin.\n",
      "Sonlandırılıyor...\n"
     ]
    }
   ],
   "source": [
    "import time\n",
    "class SinemaProgrami:\n",
    "    def __init__(self):\n",
    "        self.vizyon_filmler = [\"The Silence of the Lambs\", \"Saving Private Ryan\", \"City of God\", \"Interstellar\", \"Terminator 2: Judgement Day\"]\n",
    "\n",
    "    def yapay_zeka_hizmeti(self, film_adi, yas):\n",
    "        return True\n",
    "\n",
    "    def programi_baslat(self):\n",
    "        print(\"Yet Sinema'ya Hoş Geldiniz\")\n",
    "        while True:\n",
    "            vizyon_goruntuleme = input(\"Vizyondaki filmleri görüntülemek için lütfen q'ya basınız, sonlandırmak için lütfen e'ye basınız...\")\n",
    "\n",
    "            if vizyon_goruntuleme.lower() == \"e\":\n",
    "                print(\"Sonlandırılıyor...\")\n",
    "                break\n",
    "            elif vizyon_goruntuleme.lower() == \"q\":\n",
    "                self.filmleri_goruntule()\n",
    "                film_secimi = input(\"Görmek istediğiniz filmi seçiniz: \")\n",
    "\n",
    "                if self.film_gecerli_mi(film_secimi):\n",
    "                    yas = self.yas_girisi()\n",
    "                    self.film_izleme_hizmeti(film_secimi, yas)\n",
    "                else:\n",
    "                    print(\"Geçersiz film seçimi.\")\n",
    "            else:\n",
    "                print(\"Geçersiz seçenek. Lütfen tekrar deneyin.\")\n",
    "\n",
    "    def filmleri_goruntule(self):\n",
    "        print(self.vizyon_filmler)\n",
    "        time.sleep(3)\n",
    "\n",
    "    def film_gecerli_mi(self, film_secimi):\n",
    "        return film_secimi in self.vizyon_filmler\n",
    "\n",
    "    def yas_girisi(self):\n",
    "        while True:\n",
    "            try:\n",
    "                yas = int(input(\"Lütfen yaşınızı giriniz: \"))\n",
    "                return yas\n",
    "            except ValueError:\n",
    "                print(\"Geçersiz giriş. Lütfen bir sayı girin.\")\n",
    "\n",
    "    def film_izleme_hizmeti(self, film_secimi, yas):\n",
    "        if self.yapay_zeka_hizmeti(film_secimi, yas):\n",
    "            print(\"Film izlemek için yaşınız uygun, keyifli seyirler!\")    \n",
    "        else:\n",
    "            print(\"Bu filmi izlemek için yaşınız uygun değil.\")\n",
    "\n",
    "sinema_programi = SinemaProgrami()\n",
    "sinema_programi.programi_baslat()\n"
   ]
  },
  {
   "attachments": {},
   "cell_type": "markdown",
   "metadata": {},
   "source": [
    "* Filmler sözlüğe atanacak\n",
    "*\n"
   ]
  },
  {
   "cell_type": "code",
   "execution_count": null,
   "metadata": {},
   "outputs": [],
   "source": []
  }
 ],
 "metadata": {
  "kernelspec": {
   "display_name": "Python 3",
   "language": "python",
   "name": "python3"
  },
  "language_info": {
   "codemirror_mode": {
    "name": "ipython",
    "version": 3
   },
   "file_extension": ".py",
   "mimetype": "text/x-python",
   "name": "python",
   "nbconvert_exporter": "python",
   "pygments_lexer": "ipython3",
   "version": "3.11.3"
  },
  "orig_nbformat": 4
 },
 "nbformat": 4,
 "nbformat_minor": 2
}
