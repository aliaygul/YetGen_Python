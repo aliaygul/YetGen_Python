{
 "cells": [
  {
   "attachments": {},
   "cell_type": "markdown",
   "metadata": {},
   "source": [
    "# Methotlar"
   ]
  },
  {
   "cell_type": "code",
   "execution_count": 1,
   "metadata": {},
   "outputs": [],
   "source": [
    "class Yazilimci():\n",
    "    def __init__(self,isim,soyisim,numara,maaş,diller):\n",
    "        self.isim=isim\n",
    "        self.soyisim=soyisim\n",
    "        self.numara=numara\n",
    "        self.maaş=maaş\n",
    "        self.diller=diller\n",
    "        \n",
    "    def bilgileri_goster(self):\n",
    "        print(f\"\"\"Çalışan bilgisi:\n",
    "        İsim: {self.isim}\n",
    "        Soyisim: {self.soyisim}\n",
    "        Numara: {self.numara}\n",
    "        Maaş: {self.maaş}\n",
    "        Bildiği diller: {self.diller}\n",
    "        \"\"\")\n",
    "    def dil_ekle(self,yeni_dil):\n",
    "        print(\"Dil eklendi\")\n",
    "        self.diller.append(yeni_dil)\n",
    "    def maas_yukselt(self,zam):\n",
    "        print(\"Zam yapılıyor\")\n",
    "        self.maaş += 250"
   ]
  },
  {
   "cell_type": "code",
   "execution_count": 2,
   "metadata": {},
   "outputs": [],
   "source": [
    "yazilimci= Yazilimci(\"Ali\",\"Aygül\",12345,10000,[\"Python\",\"Flutter\",\"JS\"])"
   ]
  },
  {
   "cell_type": "code",
   "execution_count": 3,
   "metadata": {},
   "outputs": [
    {
     "name": "stdout",
     "output_type": "stream",
     "text": [
      "Çalışan bilgisi:\n",
      "        İsim: Ali\n",
      "        Soyisim: Aygül\n",
      "        Numara: 12345\n",
      "        Maaş: 10000\n",
      "        Bildiği diller: ['Python', 'Flutter', 'JS']\n",
      "        \n"
     ]
    }
   ],
   "source": [
    "yazilimci.bilgileri_goster()"
   ]
  },
  {
   "cell_type": "code",
   "execution_count": 4,
   "metadata": {},
   "outputs": [
    {
     "name": "stdout",
     "output_type": "stream",
     "text": [
      "Zam yapılıyor\n"
     ]
    }
   ],
   "source": [
    "yazilimci.maas_yukselt(250)"
   ]
  },
  {
   "cell_type": "code",
   "execution_count": 5,
   "metadata": {},
   "outputs": [
    {
     "name": "stdout",
     "output_type": "stream",
     "text": [
      "Çalışan bilgisi:\n",
      "        İsim: Ali\n",
      "        Soyisim: Aygül\n",
      "        Numara: 12345\n",
      "        Maaş: 10250\n",
      "        Bildiği diller: ['Python', 'Flutter', 'JS']\n",
      "        \n"
     ]
    }
   ],
   "source": [
    "yazilimci.bilgileri_goster()"
   ]
  },
  {
   "attachments": {},
   "cell_type": "markdown",
   "metadata": {},
   "source": [
    "# Inheritance\n",
    "\n",
    "* Bu konsepti aslında bizim kendi anne babamızdan değişik özellikleri ve davranışları miras almamıza benzetebiliriz.\n",
    "* Bir sınıfın özelliklerinin ve metotlarının başka sınıflara aktarılarak işlevinin arttırılmasını sağlar.\n",
    "* Mesela öğrenci ve öğretmeni düşündüğümüz zaman öğrencinin adı, soyadı, adresi, cinsiyeti, ve numarası olsun. Öğretmenin de ad, soyad, adres, cinsiyet ve branşı olsun. Bunun yerine kişi sınıfı oluşturup ad, soyad, adres ve cinsiyet tutulur. \n",
    "* Öğrenci ve öğretmen classında ise öğrenciye veya öğretmene özgü özellikler ve metotlar tutulur.\n",
    "* super() en genel anlamıyla miras aldığımız sınıfın metotlarını alt sınıflardan kullanmamızı sağlar.\n",
    "* super().init() metodu çalışırken sınıfın özelliklerini ve metotlarını kullanırız.\n",
    "* Base Class ana sınıftır.\n",
    "* Sub Class base class'ın özelliklerini ve metotlarını kullanır.\n"
   ]
  },
  {
   "attachments": {},
   "cell_type": "markdown",
   "metadata": {},
   "source": [
    "super() fonksiyonu, alt sınıfın üst sınıfının özelliklerini veya yöntemlerini kullanmasına olanak tanır. Yani, alt sınıfta bir özellik veya yöntem tanımlandığında, super() fonksiyonu kullanılarak üst sınıfta tanımlı özelliklere veya yöntemlere erişilebilir.\n",
    "\n",
    "super() fonksiyonu, özellikle çoklu kalıtım durumlarında kullanışlıdır. Örneğin, alt sınıfın bir üst sınıfından miras aldığı bir yöntemi kullanmak için super() fonksiyonu kullanılabilir.\n",
    "\n",
    "super() fonksiyonunun kullanımı aşağıdaki gibidir:\n"
   ]
  },
  {
   "cell_type": "code",
   "execution_count": 6,
   "metadata": {},
   "outputs": [
    {
     "name": "stdout",
     "output_type": "stream",
     "text": [
      "Person nesnesi türetildi\n",
      "Ali Aygül 23\n"
     ]
    }
   ],
   "source": [
    "class Person:\n",
    "    def __init__(self, name, surname, age):\n",
    "        self.name=name\n",
    "        self.surname=surname\n",
    "        self.age=age\n",
    "        print(\"Person nesnesi türetildi\")\n",
    "    def intro(self):\n",
    "        print(self.name,self.surname,self.age)\n",
    "    \n",
    "class student(Person):\n",
    "    def __init__(self,name,surname,age,number):\n",
    "        super().__init__(name,surname,age)\n",
    "        self.number=number\n",
    "        print(\"Student nesnesi çalıştı\")\n",
    "    def intro(self):\n",
    "        print(self.name,self.surname,self.age,self.number)\n",
    "    def study(self):\n",
    "        print(f\"{self.number} numaralı öğrenci ders çalışıyor\")\n",
    "    \n",
    "class Teacher(Person):\n",
    "    def __init__(self,name, surname,age,branch):\n",
    "        super().__init__(self,name,age)\n",
    "        self.branch=branch\n",
    "        print(\"Teacher nesnesi çalıştı\")\n",
    "    def teach(self):\n",
    "        print(f\"{self.name} isimli öğretmen {self.branch} dersine girmektedir.\")\n",
    "\n",
    "p1= Person(\"Ali\",\"Aygül\",23)\n",
    "p1.intro()   "
   ]
  },
  {
   "cell_type": "code",
   "execution_count": 7,
   "metadata": {},
   "outputs": [
    {
     "name": "stdout",
     "output_type": "stream",
     "text": [
      "Person nesnesi türetildi\n",
      "Student nesnesi çalıştı\n",
      "Osman Baba 20 1001\n",
      "1001 numaralı öğrenci ders çalışıyor\n"
     ]
    }
   ],
   "source": [
    "s1=student(\"Osman\",\"Baba\",20,1001)\n",
    "s1.intro()\n",
    "s1.study()"
   ]
  },
  {
   "cell_type": "code",
   "execution_count": null,
   "metadata": {},
   "outputs": [],
   "source": []
  }
 ],
 "metadata": {
  "kernelspec": {
   "display_name": "Python 3",
   "language": "python",
   "name": "python3"
  },
  "language_info": {
   "codemirror_mode": {
    "name": "ipython",
    "version": 3
   },
   "file_extension": ".py",
   "mimetype": "text/x-python",
   "name": "python",
   "nbconvert_exporter": "python",
   "pygments_lexer": "ipython3",
   "version": "3.11.1"
  },
  "orig_nbformat": 4
 },
 "nbformat": 4,
 "nbformat_minor": 2
}
