{
 "cells": [
  {
   "attachments": {},
   "cell_type": "markdown",
   "metadata": {},
   "source": [
    "# List Comprehension\n",
    "* Liste işlemlerinde kodu uzun yazmak yerine tek bir satırda düzenleme imkanı sunmaktadır."
   ]
  },
  {
   "cell_type": "code",
   "execution_count": 1,
   "metadata": {},
   "outputs": [
    {
     "name": "stdout",
     "output_type": "stream",
     "text": [
      "[1, 4, 9, 16, 25, 36, 49, 64, 81, 100]\n"
     ]
    }
   ],
   "source": [
    "# KLASİK YÖNTEM\n",
    "liste=[1,2,3,4,5,6,7,8,9,10]\n",
    "yeniListe=[]\n",
    "for i in liste:\n",
    "    yeniListe.append(i*i)\n",
    "print(yeniListe)"
   ]
  },
  {
   "cell_type": "code",
   "execution_count": 2,
   "metadata": {},
   "outputs": [
    {
     "name": "stdout",
     "output_type": "stream",
     "text": [
      "[1, 4, 9, 16, 25, 36, 49, 64, 81, 100]\n"
     ]
    }
   ],
   "source": [
    "# LİST COMPREHENSİON\n",
    "liste=[1,2,3,4,5,6,7,8,9,10]\n",
    "yeniListe=[i*i for i in liste ]\n",
    "print(yeniListe)"
   ]
  },
  {
   "cell_type": "code",
   "execution_count": 3,
   "metadata": {},
   "outputs": [
    {
     "name": "stdout",
     "output_type": "stream",
     "text": [
      "[1, 2, 3, 4, 5, 6, 7, 8, 9, 10, 11, 12, 13, 14, 15]\n"
     ]
    }
   ],
   "source": [
    "liste = [[1,2,3],[4,5,6,7,8,],[9,10,11,12,13,14,15]]\n",
    "liste2 = [ x for i in liste for x in i]\n",
    "print(liste2)"
   ]
  },
  {
   "cell_type": "code",
   "execution_count": 4,
   "metadata": {},
   "outputs": [
    {
     "name": "stdout",
     "output_type": "stream",
     "text": [
      "[1, 2, 3, 5, 6, 7, 8, 10]\n"
     ]
    }
   ],
   "source": [
    "liste1=[1,2,3,4,5,6,7,8,9,10]\n",
    "liste2=[i for i in liste1 if not(i==4 or i==9)]\n",
    "print(liste2)"
   ]
  },
  {
   "attachments": {},
   "cell_type": "markdown",
   "metadata": {},
   "source": [
    "# Fonksiyonlar ve Argüman\n",
    "* Bir kodu birçok yerde kullabmamız gerekiyorsa, her yerde tekrar tekrar yazmayı önler. Programlamanın temeli: DRY(Don't Repeat Yourself - Kendini Tekrar Etme)\n",
    "* Fonksiyonların içindeki değişkenler yereldir, yani bir fonksiyonun içinde bir değişken tanımladığınızda, o değişkeni fonksiyonun dışında çağıramayız. Çünkü o değişken o fonksiyona özeldir ve globalde kullanılamaz.\n",
    "* Ne zaman bir fonksiyon çağırılırsa, fonkiyonu yazdıktan sonra yapmalısınız.\n",
    "* Fonksiyon tanımlama yapısı şu şekildedir;\n",
    "\n",
    "    def fonksiyon_adı(parametre1,parametre2.....(opsiyonel)):\n",
    "        \"fonksiyon bloğu\"\n",
    "        Yapılacak İşlemler\n",
    "        \"dönüş değeri-opsiyonel\"\n",
    "* Tanımlanan bir fonksiyonun kullanılmasına programlama dillerinde Fonksiyon Çağrısı denmektedir. O halde selamla fonksiyonumuzu nasıl çağıracağımızı öğrenelim. Fonksiyon çağrısı şu şekilde yapılabilmektedir;\n",
    "\n",
    "    fonksiyon_adi(Argüman1,Argüman2......)"
   ]
  },
  {
   "cell_type": "code",
   "execution_count": 5,
   "metadata": {},
   "outputs": [
    {
     "name": "stdout",
     "output_type": "stream",
     "text": [
      "Merhaba\n"
     ]
    }
   ],
   "source": [
    "def selamla():\n",
    "    print(\"Merhaba\")\n",
    "\n",
    "selamla()"
   ]
  },
  {
   "attachments": {},
   "cell_type": "markdown",
   "metadata": {},
   "source": [
    "# Argüman\n",
    "* İşlev çağrılırken parantez içindeki işlevlere iletilen değerler (string,number,vb.)(ör: islev_adı(argüman))\n",
    "* Eğer fonksiyon çağırılırken bir argüman yoksa, bu argümanın değeri None olacaktır. Bu nedenle fonksiyonun içinde ifade edilecek bir değer yoksa belirlenen değeri kullanılmalıdır.\n",
    "\n",
    "def helloWorld(name=\"ziyaretçi\"):\n",
    "    print(\"Merhaba\", name)\n",
    "\n",
    "* Birden fazla parametre olabilir, her biri virgülle ayrılır."
   ]
  },
  {
   "cell_type": "code",
   "execution_count": 6,
   "metadata": {},
   "outputs": [
    {
     "name": "stdout",
     "output_type": "stream",
     "text": [
      "Merhaba  ziyaretçi\n",
      "Merhaba  Ali\n"
     ]
    }
   ],
   "source": [
    "def helloWorld(name=\"ziyaretçi\"):\n",
    "    print(\"Merhaba \", name)\n",
    "helloWorld()\n",
    "helloWorld(\"Ali\")"
   ]
  },
  {
   "cell_type": "code",
   "execution_count": 7,
   "metadata": {},
   "outputs": [
    {
     "name": "stdout",
     "output_type": "stream",
     "text": [
      "6\n"
     ]
    }
   ],
   "source": [
    "def topla(sayi1,sayi2,sayi3):\n",
    "    toplam=sayi1+sayi2+sayi3\n",
    "    print(toplam)\n",
    "topla(1,2,3)"
   ]
  },
  {
   "cell_type": "code",
   "execution_count": 8,
   "metadata": {},
   "outputs": [
    {
     "name": "stdout",
     "output_type": "stream",
     "text": [
      "Bilgisayara Hoş Geldin Ali Aygül\n",
      "Bilgisayara Hoş Geldin Osman Aygül\n",
      "Bilgisayara Hoş Geldin Ali Kırmızıgül\n"
     ]
    }
   ],
   "source": [
    "def merhaba(name = \"Ali\", surname=\" Aygül\"):\n",
    "    print(\"Bilgisayara Hoş Geldin \" + name + surname)\n",
    "merhaba()\n",
    "merhaba(\"Osman\")\n",
    "merhaba(\"Ali\",\" Kırmızıgül\")"
   ]
  },
  {
   "cell_type": "code",
   "execution_count": 9,
   "metadata": {},
   "outputs": [
    {
     "name": "stdout",
     "output_type": "stream",
     "text": [
      "120\n",
      "1\n",
      "504\n"
     ]
    }
   ],
   "source": [
    "def carp(sayi1=1, sayi2=1, sayi3=1):\n",
    "    c = sayi1*sayi2*sayi3\n",
    "    print(c)\n",
    "carp(4,5,6)\n",
    "carp()\n",
    "carp(9,8,7)"
   ]
  },
  {
   "cell_type": "code",
   "execution_count": 44,
   "metadata": {},
   "outputs": [
    {
     "name": "stdout",
     "output_type": "stream",
     "text": [
      "Hola\n",
      "Bonjour\n",
      "Merhaba\n"
     ]
    }
   ],
   "source": [
    "def merhaba(dil):\n",
    "    if dil ==\"es\":\n",
    "        print(\"Hola\")\n",
    "    elif dil ==\"fr\":\n",
    "        print(\"Bonjour\")\n",
    "    else:\n",
    "        print(\"Merhaba\")\n",
    "merhaba(\"es\")\n",
    "merhaba(\"fr\")\n",
    "merhaba(\"merhaba\")"
   ]
  },
  {
   "attachments": {},
   "cell_type": "markdown",
   "metadata": {},
   "source": [
    "# return\n",
    "* Kodun tamamında kullanmak için işlevin kodu tamamlandıktan sonra kalan değeri (sonuç değeri) döndürür.\n",
    "* \"return\" anahtar sözcüğünden sonraki kodlar yürütülmez, bu görmezden gelindikleri anlamına gelir.\n",
    "* return yardımıyla fonksiyonlar değerleri çağırıldığı yere döndürebilir ve biz de bu değerleri istediğimiz yerde kullabiliriz."
   ]
  },
  {
   "cell_type": "code",
   "execution_count": 2,
   "metadata": {},
   "outputs": [
    {
     "name": "stdout",
     "output_type": "stream",
     "text": [
      "3.0\n"
     ]
    }
   ],
   "source": [
    "\n",
    "def dikUcgenAlaniHesapla(a,b):\n",
    "    return(a*b)/2\n",
    "print(dikUcgenAlaniHesapla(2,3))"
   ]
  },
  {
   "cell_type": "code",
   "execution_count": 45,
   "metadata": {},
   "outputs": [
    {
     "name": "stdout",
     "output_type": "stream",
     "text": [
      "3000\n"
     ]
    }
   ],
   "source": [
    "# Alttaki iki örnekte görebildiğin üzere return ile birlikte sonraki kullanacağımız işlemlerde return değerini işleme katabiliyoruz. Fakat print ile birlikte kullanamıyoruz.\n",
    "def faiz(miktar):\n",
    "    return miktar\n",
    "maas=1500 + faiz(1500)\n",
    "print(maas)"
   ]
  },
  {
   "cell_type": "code",
   "execution_count": 46,
   "metadata": {},
   "outputs": [
    {
     "name": "stdout",
     "output_type": "stream",
     "text": [
      "1500\n"
     ]
    },
    {
     "ename": "TypeError",
     "evalue": "unsupported operand type(s) for +: 'int' and 'NoneType'",
     "output_type": "error",
     "traceback": [
      "\u001b[1;31m---------------------------------------------------------------------------\u001b[0m",
      "\u001b[1;31mTypeError\u001b[0m                                 Traceback (most recent call last)",
      "Cell \u001b[1;32mIn[46], line 3\u001b[0m\n\u001b[0;32m      1\u001b[0m \u001b[39mdef\u001b[39;00m \u001b[39mfaiz\u001b[39m(miktar):\n\u001b[0;32m      2\u001b[0m     \u001b[39mprint\u001b[39m (miktar)\n\u001b[1;32m----> 3\u001b[0m maas\u001b[39m=\u001b[39m\u001b[39m1500\u001b[39;49m \u001b[39m+\u001b[39;49m faiz(\u001b[39m1500\u001b[39;49m)\n\u001b[0;32m      4\u001b[0m \u001b[39mprint\u001b[39m(maas)\n",
      "\u001b[1;31mTypeError\u001b[0m: unsupported operand type(s) for +: 'int' and 'NoneType'"
     ]
    }
   ],
   "source": [
    "def faiz(miktar):\n",
    "    print (miktar)\n",
    "maas=1500 + faiz(1500)\n",
    "print(maas)"
   ]
  },
  {
   "attachments": {},
   "cell_type": "markdown",
   "metadata": {},
   "source": [
    "# *args\n",
    "\n",
    "* Sınırsız sayıda parametreli bir fonksiton oluşturmak için önüne tek yıldız (*) koyabiliriz.\n",
    "* İsimsiz argümanlardır."
   ]
  },
  {
   "cell_type": "code",
   "execution_count": 12,
   "metadata": {},
   "outputs": [
    {
     "name": "stdout",
     "output_type": "stream",
     "text": [
      "(4,)\n",
      "(4, 5, 6, 7, 8, 9, 0)\n"
     ]
    }
   ],
   "source": [
    "def sayilar(*x):\n",
    "    print(x)\n",
    "sayilar(4)\n",
    "sayilar(4,5,6,7,8,9,0)"
   ]
  },
  {
   "cell_type": "code",
   "execution_count": 13,
   "metadata": {},
   "outputs": [
    {
     "name": "stdout",
     "output_type": "stream",
     "text": [
      "45\n"
     ]
    }
   ],
   "source": [
    "def topla(*x):\n",
    "    toplam = 0 \n",
    "    for i in x:\n",
    "        toplam +=i\n",
    "    print(toplam)\n",
    "topla(1,2,3,4,5,6,7,8,9)"
   ]
  },
  {
   "attachments": {},
   "cell_type": "markdown",
   "metadata": {},
   "source": [
    " # **kwargs\n",
    " * Çift yıldızlı (**) parametrelerin tek yıldızlı (*) parametrelerden en önemli farkı, fonksiyonu çağırırken anahtar değer ilişkisiyle çağırabilmemizdir.\n",
    " * İsimli argümanlardır."
   ]
  },
  {
   "cell_type": "code",
   "execution_count": 14,
   "metadata": {},
   "outputs": [
    {
     "name": "stdout",
     "output_type": "stream",
     "text": [
      "{'adi': 'Ali', 'soyadi': 'Aygül', 'yas': '21'}\n"
     ]
    }
   ],
   "source": [
    "def kimlikgöster(**kimlik):\n",
    "    print(kimlik)\n",
    "kimlikgöster(adi =\"Ali\", soyadi=\"Aygül\", yas=\"21\")"
   ]
  },
  {
   "cell_type": "code",
   "execution_count": 15,
   "metadata": {},
   "outputs": [
    {
     "name": "stdout",
     "output_type": "stream",
     "text": [
      "10\n",
      "(20, 30, 40, 50)\n",
      "6\n",
      "{'adi': 'Ali', 'soyadi': 'Aygül', 'yas': '21'}\n"
     ]
    }
   ],
   "source": [
    "def örnek(a, *sayilar, b, **kimlik):\n",
    "    print(a)\n",
    "    print(sayilar)\n",
    "    print(b)\n",
    "    print(kimlik)\n",
    "örnek(10,20,30,40,50,b=\"6\",adi =\"Ali\", soyadi=\"Aygül\", yas=\"21\")"
   ]
  },
  {
   "attachments": {},
   "cell_type": "markdown",
   "metadata": {},
   "source": [
    "# Pass Deyimi\n",
    "* Python programlamasında pass ifade null değer atama için kullanılır. Python'daki bir açıklama ve geçiş ifadesi arasındaki fark, yorumlayıcı bir yorumu tamamen yok sayarken geçişin göz ardı edilmemesidir."
   ]
  },
  {
   "cell_type": "code",
   "execution_count": 16,
   "metadata": {},
   "outputs": [],
   "source": [
    "def carp(*sayilar):\n",
    "    for sayi in sayilar:\n",
    "        pass\n",
    "carp(2,5)"
   ]
  },
  {
   "attachments": {},
   "cell_type": "markdown",
   "metadata": {},
   "source": [
    "# Global ve Yerel Değişkenller\n",
    "\n",
    "* Global değişken fonksiyonlarımızın dışında tanımladığımız değişkenlerdir.\n",
    "* Yerel değişkenler ise fonksiyon içinde kullandığımız değişkenlerdir.\n",
    "* Fonksiyonun dışında tanımladığımız fonksiyonların içinde kullanılırken, fonksiyonların içinde tanımladığımız değişkenler fonksiyon dışında kullanılamaz."
   ]
  },
  {
   "cell_type": "code",
   "execution_count": 17,
   "metadata": {},
   "outputs": [
    {
     "ename": "SyntaxError",
     "evalue": "incomplete input (3010290870.py, line 3)",
     "output_type": "error",
     "traceback": [
      "\u001b[1;36m  Cell \u001b[1;32mIn[17], line 3\u001b[1;36m\u001b[0m\n\u001b[1;33m    # Yerel değişken\u001b[0m\n\u001b[1;37m                    ^\u001b[0m\n\u001b[1;31mSyntaxError\u001b[0m\u001b[1;31m:\u001b[0m incomplete input\n"
     ]
    }
   ],
   "source": [
    "# Global değişken\n",
    "def goster():\n",
    "    # Yerel değişken"
   ]
  },
  {
   "cell_type": "code",
   "execution_count": null,
   "metadata": {},
   "outputs": [
    {
     "ename": "NameError",
     "evalue": "name 'x' is not defined",
     "output_type": "error",
     "traceback": [
      "\u001b[1;31m---------------------------------------------------------------------------\u001b[0m",
      "\u001b[1;31mNameError\u001b[0m                                 Traceback (most recent call last)",
      "Cell \u001b[1;32mIn[8], line 5\u001b[0m\n\u001b[0;32m      3\u001b[0m     \u001b[39mprint\u001b[39m(x)\n\u001b[0;32m      4\u001b[0m yazdir2\n\u001b[1;32m----> 5\u001b[0m \u001b[39mprint\u001b[39m(x)\n",
      "\u001b[1;31mNameError\u001b[0m: name 'x' is not defined"
     ]
    }
   ],
   "source": [
    "def yazdir2():\n",
    "    x = 5\n",
    "    print(x)\n",
    "yazdir2\n",
    "print(x)"
   ]
  },
  {
   "cell_type": "code",
   "execution_count": null,
   "metadata": {},
   "outputs": [
    {
     "name": "stdout",
     "output_type": "stream",
     "text": [
      "5\n",
      "5\n"
     ]
    }
   ],
   "source": [
    "def yazdir3():\n",
    "    global x\n",
    "    x=5\n",
    "    print(x)\n",
    "yazdir3()\n",
    "print(x)\n",
    "# Bir fonksiyon kendi içerisinde çağırılırsa sonsuz döngüye girer."
   ]
  },
  {
   "attachments": {},
   "cell_type": "markdown",
   "metadata": {},
   "source": [
    "# Lambda Gösterimi\n",
    "* Pythonda isimsiz olarak tanımladığımız fonksiyonlara denir.\n",
    "* Tek satırda yazılırlar.\n",
    "* Gösterimi = lambda parametreler : yapılacakİşlem"
   ]
  },
  {
   "cell_type": "code",
   "execution_count": null,
   "metadata": {},
   "outputs": [
    {
     "data": {
      "text/plain": [
       "3.0"
      ]
     },
     "execution_count": 11,
     "metadata": {},
     "output_type": "execute_result"
    }
   ],
   "source": [
    "dikUcgenAlaniHesapla= lambda a,b: a*b/2\n",
    "dikUcgenAlaniHesapla(2,3)"
   ]
  },
  {
   "cell_type": "code",
   "execution_count": null,
   "metadata": {},
   "outputs": [
    {
     "name": "stdout",
     "output_type": "stream",
     "text": [
      "6\n"
     ]
    }
   ],
   "source": [
    "ikiylecarp = lambda x: print(x*2)\n",
    "ikiylecarp(3)"
   ]
  },
  {
   "cell_type": "code",
   "execution_count": null,
   "metadata": {},
   "outputs": [
    {
     "name": "stdout",
     "output_type": "stream",
     "text": [
      "lügyA ilA\n"
     ]
    }
   ],
   "source": [
    "ters=lambda s : s[::-1]\n",
    "print(ters(\"Ali Aygül\"))"
   ]
  },
  {
   "cell_type": "code",
   "execution_count": null,
   "metadata": {},
   "outputs": [],
   "source": []
  }
 ],
 "metadata": {
  "kernelspec": {
   "display_name": "Python 3",
   "language": "python",
   "name": "python3"
  },
  "language_info": {
   "codemirror_mode": {
    "name": "ipython",
    "version": 3
   },
   "file_extension": ".py",
   "mimetype": "text/x-python",
   "name": "python",
   "nbconvert_exporter": "python",
   "pygments_lexer": "ipython3",
   "version": "3.11.1"
  },
  "orig_nbformat": 4
 },
 "nbformat": 4,
 "nbformat_minor": 2
}
