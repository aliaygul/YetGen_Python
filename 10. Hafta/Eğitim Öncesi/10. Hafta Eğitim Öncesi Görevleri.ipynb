{
 "cells": [
  {
   "attachments": {},
   "cell_type": "markdown",
   "metadata": {},
   "source": [
    "# Problem 1"
   ]
  },
  {
   "cell_type": "code",
   "execution_count": 7,
   "metadata": {},
   "outputs": [
    {
     "name": "stdout",
     "output_type": "stream",
     "text": [
      "[[7 8 4 9 3]]\n",
      "(1, 5)\n",
      "[[7]\n",
      " [8]\n",
      " [4]\n",
      " [9]\n",
      " [3]]\n",
      "2\n"
     ]
    }
   ],
   "source": [
    "# 1 - numpy kütüphanesini import edin\n",
    "import numpy as np \n",
    "\n",
    "# 2 - 0 ile 10 arasında 5 sayıdan oluşan matris üretin\n",
    "matris = np.random.randint(0, 11, size=(1, 5))\n",
    "print(matris)\n",
    "\n",
    "# 3 - matris'in boyutunu öğrenin\n",
    "print(matris.shape)\n",
    "# 4 - matris'i yeniden boyutlandırın\n",
    "matris= matris.reshape(5,1)\n",
    "print(matris)\n",
    "# 5 - matris'in boyut sayısını öğrenin\n",
    "print(matris.ndim)\n"
   ]
  },
  {
   "attachments": {},
   "cell_type": "markdown",
   "metadata": {},
   "source": [
    "# Problem 2"
   ]
  },
  {
   "cell_type": "code",
   "execution_count": 20,
   "metadata": {},
   "outputs": [
    {
     "name": "stdout",
     "output_type": "stream",
     "text": [
      "[[1]\n",
      " [3]\n",
      " [5]\n",
      " [7]\n",
      " [9]]\n",
      "------------------------\n",
      "[[1]]\n",
      "[[3]]\n",
      "[[5]]\n",
      "[[7]]\n",
      "[[9]]\n",
      "-----------------------------------\n",
      "[[[1]]\n",
      "\n",
      " [[3]]\n",
      "\n",
      " [[5]]\n",
      "\n",
      " [[7]]\n",
      "\n",
      " [[9]]]\n"
     ]
    }
   ],
   "source": [
    "# 1 - 0 ile 10 arasında bulunan tek sayılardan oluşan matris üretin\n",
    "matris = np.arange(1, 11, 2).reshape(5, 1)\n",
    "print(matris)\n",
    "print(\"------------------------\")\n",
    "# 2 - Oluşturduğunuz matrisi parçalayın\n",
    "matris_parcala= np.split(matris, 5)\n",
    "for parca in matris_parcala:\n",
    "    print(parca)\n",
    "print(\"-----------------------------------\")\n",
    "# 3 - Parçalanmış matrisleri birleştirin\n",
    "print(np.concatenate([matris_parcala]))"
   ]
  },
  {
   "attachments": {},
   "cell_type": "markdown",
   "metadata": {},
   "source": [
    "# Problem 3"
   ]
  },
  {
   "cell_type": "code",
   "execution_count": 32,
   "metadata": {},
   "outputs": [
    {
     "name": "stdout",
     "output_type": "stream",
     "text": [
      "[[37  7]\n",
      " [87 53]\n",
      " [79 63]\n",
      " [61 39]\n",
      " [29 65]]\n"
     ]
    }
   ],
   "source": [
    "# 1 - 5 ile 100 arasında ikişer ikişer atlayarak rastgele 10 sayıdan oluşan matris üretin\n",
    "numbers = np.arange(5, 101, 2)\n",
    "np.random.shuffle(numbers)\n",
    "matrix = numbers[:10].reshape((5, 2))\n",
    "print(matrix)\n",
    "# 2 - matris'in özelliklerini inceleyin\n"
   ]
  },
  {
   "cell_type": "code",
   "execution_count": null,
   "metadata": {},
   "outputs": [],
   "source": []
  }
 ],
 "metadata": {
  "kernelspec": {
   "display_name": "Python 3",
   "language": "python",
   "name": "python3"
  },
  "language_info": {
   "codemirror_mode": {
    "name": "ipython",
    "version": 3
   },
   "file_extension": ".py",
   "mimetype": "text/x-python",
   "name": "python",
   "nbconvert_exporter": "python",
   "pygments_lexer": "ipython3",
   "version": "3.11.1"
  },
  "orig_nbformat": 4,
  "vscode": {
   "interpreter": {
    "hash": "5026d2d6e7aaaaba093def813beadff083d8733e4a511af01735cbabd156995d"
   }
  }
 },
 "nbformat": 4,
 "nbformat_minor": 2
}
