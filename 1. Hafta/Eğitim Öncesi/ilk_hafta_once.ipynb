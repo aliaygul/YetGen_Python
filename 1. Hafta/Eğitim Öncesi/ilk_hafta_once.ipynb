{
 "cells": [
  {
   "cell_type": "code",
   "execution_count": null,
   "metadata": {},
   "outputs": [],
   "source": []
  }
 ],
 "metadata": {
  "kernelspec": {
   "display_name": "Python 3",
   "language": "python",
   "name": "python3"
  },
  "language_info": {
   "name": "python",
   "version": "3.11.1 (tags/v3.11.1:a7a450f, Dec  6 2022, 19:58:39) [MSC v.1934 64 bit (AMD64)]"
  },
  "orig_nbformat": 4,
  "vscode": {
   "interpreter": {
    "hash": "afae143006f5e9352d1b88dae4ee76383be65966ca9371e05ecd50b7a73c3b58"
   }
  }
 },
 "nbformat": 4,
 "nbformat_minor": 2
}
