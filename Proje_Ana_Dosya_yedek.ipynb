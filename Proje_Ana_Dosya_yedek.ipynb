{
 "cells": [
  {
   "cell_type": "code",
   "execution_count": null,
   "metadata": {},
   "outputs": [],
   "source": [
    "# Gerekli olabilecek kütüphaneleri importluyorum.\n",
    "import numpy as np\n",
    "import pandas as pd\n",
    "import time "
   ]
  },
  {
   "cell_type": "code",
   "execution_count": null,
   "metadata": {},
   "outputs": [],
   "source": [
    "# Excel dosyasını okutarak illerin \"Data Framelerini\" oluşturacağım. \n",
    "# İndeksleme işlemi yaparken tabloları kolay bulabilmek adına data frameleri alfabetik sıraya göre oluşturuyorum."
   ]
  },
  {
   "attachments": {},
   "cell_type": "markdown",
   "metadata": {},
   "source": [
    "**ADANA**"
   ]
  },
  {
   "cell_type": "code",
   "execution_count": null,
   "metadata": {},
   "outputs": [],
   "source": [
    "df_adana= pd.read_excel(\"C:/Users/ali-a/OneDrive/Masaüstü/YetGeN_Proje.xlsx\", sheet_name=\"Adana\")\n",
    "df_adana\n",
    "\n"
   ]
  },
  {
   "cell_type": "code",
   "execution_count": null,
   "metadata": {},
   "outputs": [],
   "source": [
    "df_adana.iloc[:6,4]"
   ]
  },
  {
   "attachments": {},
   "cell_type": "markdown",
   "metadata": {},
   "source": [
    "**ANKARA**"
   ]
  },
  {
   "cell_type": "code",
   "execution_count": null,
   "metadata": {},
   "outputs": [],
   "source": [
    "df_ankara= pd.read_excel(\"C:/Users/ali-a/OneDrive/Masaüstü/YetGeN_Proje.xlsx\", sheet_name=\"Ankara\")\n",
    "df_ankara"
   ]
  },
  {
   "attachments": {},
   "cell_type": "markdown",
   "metadata": {},
   "source": [
    "**ANTALYA**"
   ]
  },
  {
   "cell_type": "code",
   "execution_count": null,
   "metadata": {},
   "outputs": [],
   "source": [
    "df_antalya= pd.read_excel(\"C:/Users/ali-a/OneDrive/Masaüstü/YetGeN_Proje.xlsx\", sheet_name=\"Antalya\")\n",
    "df_antalya"
   ]
  },
  {
   "attachments": {},
   "cell_type": "markdown",
   "metadata": {},
   "source": [
    "**AYDIN**"
   ]
  },
  {
   "cell_type": "code",
   "execution_count": null,
   "metadata": {},
   "outputs": [],
   "source": [
    "df_aydın= pd.read_excel(\"C:/Users/ali-a/OneDrive/Masaüstü/YetGeN_Proje.xlsx\", sheet_name=\"Aydın\")\n",
    "df_aydın"
   ]
  },
  {
   "attachments": {},
   "cell_type": "markdown",
   "metadata": {},
   "source": [
    "**BALIKESİR**"
   ]
  },
  {
   "cell_type": "code",
   "execution_count": null,
   "metadata": {},
   "outputs": [],
   "source": [
    "df_balıkesir= pd.read_excel(\"C:/Users/ali-a/OneDrive/Masaüstü/YetGeN_Proje.xlsx\", sheet_name=\"Balıkesir\")\n",
    "df_balıkesir"
   ]
  },
  {
   "attachments": {},
   "cell_type": "markdown",
   "metadata": {},
   "source": [
    "**BURSA**"
   ]
  },
  {
   "cell_type": "code",
   "execution_count": null,
   "metadata": {},
   "outputs": [],
   "source": [
    "df_bursa= pd.read_excel(\"C:/Users/ali-a/OneDrive/Masaüstü/YetGeN_Proje.xlsx\", sheet_name=\"Bursa\")\n",
    "df_bursa"
   ]
  },
  {
   "attachments": {},
   "cell_type": "markdown",
   "metadata": {},
   "source": [
    "**DENİZLİ**"
   ]
  },
  {
   "cell_type": "code",
   "execution_count": null,
   "metadata": {},
   "outputs": [],
   "source": [
    "df_denizli= pd.read_excel(\"C:/Users/ali-a/OneDrive/Masaüstü/YetGeN_Proje.xlsx\", sheet_name=\"Denizli\")\n",
    "df_denizli"
   ]
  },
  {
   "attachments": {},
   "cell_type": "markdown",
   "metadata": {},
   "source": [
    "**DİYARBAKIR**"
   ]
  },
  {
   "cell_type": "code",
   "execution_count": null,
   "metadata": {},
   "outputs": [],
   "source": [
    "df_diyarbakır= pd.read_excel(\"C:/Users/ali-a/OneDrive/Masaüstü/YetGeN_Proje.xlsx\", sheet_name=\"Diyarbakır\")\n",
    "df_diyarbakır"
   ]
  },
  {
   "attachments": {},
   "cell_type": "markdown",
   "metadata": {},
   "source": [
    "**ERZURUM**"
   ]
  },
  {
   "cell_type": "code",
   "execution_count": null,
   "metadata": {},
   "outputs": [],
   "source": [
    "df_erzurum= pd.read_excel(\"C:/Users/ali-a/OneDrive/Masaüstü/YetGeN_Proje.xlsx\", sheet_name=\"Erzurum\")\n",
    "df_erzurum"
   ]
  },
  {
   "attachments": {},
   "cell_type": "markdown",
   "metadata": {},
   "source": [
    "**ESKİŞEHİR**"
   ]
  },
  {
   "cell_type": "code",
   "execution_count": null,
   "metadata": {},
   "outputs": [],
   "source": [
    "df_eskişehir= pd.read_excel(\"C:/Users/ali-a/OneDrive/Masaüstü/YetGeN_Proje.xlsx\", sheet_name=\"Eskişehir\")\n",
    "df_eskişehir"
   ]
  },
  {
   "attachments": {},
   "cell_type": "markdown",
   "metadata": {},
   "source": [
    "**GAZİANTEP**"
   ]
  },
  {
   "cell_type": "code",
   "execution_count": null,
   "metadata": {},
   "outputs": [],
   "source": [
    "df_gaziantep= pd.read_excel(\"C:/Users/ali-a/OneDrive/Masaüstü/YetGeN_Proje.xlsx\", sheet_name=\"Gaziantep\")\n",
    "df_gaziantep"
   ]
  },
  {
   "attachments": {},
   "cell_type": "markdown",
   "metadata": {},
   "source": [
    "**HATAY**"
   ]
  },
  {
   "cell_type": "code",
   "execution_count": null,
   "metadata": {},
   "outputs": [],
   "source": [
    "df_hatay= pd.read_excel(\"C:/Users/ali-a/OneDrive/Masaüstü/YetGeN_Proje.xlsx\", sheet_name=\"Hatay\")\n",
    "df_hatay"
   ]
  },
  {
   "attachments": {},
   "cell_type": "markdown",
   "metadata": {},
   "source": [
    "**İSTANBUL**"
   ]
  },
  {
   "cell_type": "code",
   "execution_count": null,
   "metadata": {},
   "outputs": [],
   "source": [
    "df_istanbul= pd.read_excel(\"C:/Users/ali-a/OneDrive/Masaüstü/YetGeN_Proje.xlsx\", sheet_name=\"İstanbul\")\n",
    "df_istanbul"
   ]
  },
  {
   "attachments": {},
   "cell_type": "markdown",
   "metadata": {},
   "source": [
    "**İZMİR**"
   ]
  },
  {
   "cell_type": "code",
   "execution_count": null,
   "metadata": {},
   "outputs": [],
   "source": [
    "df_izmir= pd.read_excel(\"C:/Users/ali-a/OneDrive/Masaüstü/YetGeN_Proje.xlsx\", sheet_name=\"İzmir\")\n",
    "df_izmir"
   ]
  },
  {
   "attachments": {},
   "cell_type": "markdown",
   "metadata": {},
   "source": [
    "**KONYA**"
   ]
  },
  {
   "cell_type": "code",
   "execution_count": null,
   "metadata": {},
   "outputs": [],
   "source": [
    "df_konya= pd.read_excel(\"C:/Users/ali-a/OneDrive/Masaüstü/YetGeN_Proje.xlsx\", sheet_name=\"Konya\")\n",
    "df_konya"
   ]
  },
  {
   "attachments": {},
   "cell_type": "markdown",
   "metadata": {},
   "source": [
    "**KAYSERİ**"
   ]
  },
  {
   "cell_type": "code",
   "execution_count": null,
   "metadata": {},
   "outputs": [],
   "source": [
    "df_kayseri= pd.read_excel(\"C:/Users/ali-a/OneDrive/Masaüstü/YetGeN_Proje.xlsx\", sheet_name=\"Kayseri\")\n",
    "df_kayseri"
   ]
  },
  {
   "attachments": {},
   "cell_type": "markdown",
   "metadata": {},
   "source": [
    "**KOCAELİ**"
   ]
  },
  {
   "cell_type": "code",
   "execution_count": null,
   "metadata": {},
   "outputs": [],
   "source": [
    "df_kocaeli= pd.read_excel(\"C:/Users/ali-a/OneDrive/Masaüstü/YetGeN_Proje.xlsx\", sheet_name=\"Kocaeli\")\n",
    "df_kocaeli"
   ]
  },
  {
   "attachments": {},
   "cell_type": "markdown",
   "metadata": {},
   "source": [
    "**MERSİN**"
   ]
  },
  {
   "cell_type": "code",
   "execution_count": null,
   "metadata": {},
   "outputs": [],
   "source": [
    "df_mersin= pd.read_excel(\"C:/Users/ali-a/OneDrive/Masaüstü/YetGeN_Proje.xlsx\", sheet_name=\"Mersin\")\n",
    "df_mersin"
   ]
  },
  {
   "attachments": {},
   "cell_type": "markdown",
   "metadata": {},
   "source": [
    "**SAKARYA**"
   ]
  },
  {
   "cell_type": "code",
   "execution_count": null,
   "metadata": {},
   "outputs": [],
   "source": [
    "df_sakarya= pd.read_excel(\"C:/Users/ali-a/OneDrive/Masaüstü/YetGeN_Proje.xlsx\", sheet_name=\"Sakarya\")\n",
    "df_sakarya"
   ]
  },
  {
   "attachments": {},
   "cell_type": "markdown",
   "metadata": {},
   "source": [
    "**SAMSUN**"
   ]
  },
  {
   "cell_type": "code",
   "execution_count": null,
   "metadata": {},
   "outputs": [],
   "source": [
    "df_samsun= pd.read_excel(\"C:/Users/ali-a/OneDrive/Masaüstü/YetGeN_Proje.xlsx\", sheet_name=\"Samsun\")\n",
    "df_samsun"
   ]
  },
  {
   "attachments": {},
   "cell_type": "markdown",
   "metadata": {},
   "source": [
    "**ANA KOD:**"
   ]
  },
  {
   "cell_type": "code",
   "execution_count": 2,
   "metadata": {},
   "outputs": [],
   "source": [
    "şehirler= [\"Adana\",\"Ankara\",\"Antalya\",\"Aydın\",\"Balıkesir\",\"Bursa\",\"Denizli\",\n",
    "           \"Diyarbakır\",\"Erzurum\",\"Eskişehir\",\"Gaziantep\",\"Hatay\",\"Istanbul\",\n",
    "           \"Izmir\",\"Konya\",\"Kayseri\",\"Kocaeli\",\"Mersin\",\"Sakarya\",\"Samsun\" ]\n",
    "\n",
    "def display_şehirler():\n",
    "    print(\"Aşağıdaki tüm şehirlerin haftalık hava durumunu öğrenebilirsiniz.\\n\")\n",
    "    print(\"-------- MEVCUT ŞEHİRLER --------\")\n",
    "    for i in range(0, len(şehirler), 4):\n",
    "        sütun = şehirler[i:i+4]\n",
    "        for sehir in sütun:\n",
    "            print(f\"{sehir:<12}\", end=\"\")\n",
    "        print()\n",
    "    print(\"\\n\")\n",
    "\n",
    "\n",
    "def hava_durumu():\n",
    "    display_şehirler()\n",
    "    tercih= input(\"Hangi şehrin hava durumunu öğrenmek istersin?\")\n",
    "    tercih_düzeltilmiş= tercih.lower().capitalize()\n",
    "   \n",
    "    \n",
    "    assert tercih_düzeltilmiş in şehirler, \"Bu şehrimizin hava durumu bilgileri şuanda mevcut değil. Başka bir şehir için bilgi almak isterseniz programı tekrar başlatın.\"\n",
    "\n",
    "    if tercih_düzeltilmiş == \"Adana\":\n",
    "        print(\"Adana'nın haftalık Hava Durumu:\\n\")\n",
    "        print(df_adana)\n",
    "    \n",
    "    elif tercih_düzeltilmiş == \"Ankara\":\n",
    "        print(\"Ankara'nın haftalık Hava Durumu:\\n\")\n",
    "        print(df_ankara)\n",
    "    \n",
    "    elif tercih_düzeltilmiş == \"Antalya\":\n",
    "        print(\"Antalya'nın haftalık Hava Durumu:\\n\")\n",
    "        print(df_antalya)\n",
    "    \n",
    "    elif tercih_düzeltilmiş == \"Aydın\":\n",
    "        print(\"Aydın'ın haftalık Hava Durumu:\\n\")\n",
    "        print(df_aydın)\n",
    "    \n",
    "    elif tercih_düzeltilmiş == \"Balıkesir\":\n",
    "        print(\"Balıkesir'in haftalık Hava Durumu:\\n\")\n",
    "        print(df_balıkesir)\n",
    "    \n",
    "    elif tercih_düzeltilmiş == \"Bursa\":\n",
    "        print(\"Bursa'nın haftalık Hava Durumu:\\n\")\n",
    "        print(df_bursa)\n",
    "    \n",
    "    elif tercih_düzeltilmiş == \"Denizli\":\n",
    "        print(\"Denizli'nin haftalık Hava Durumu:\\n\")\n",
    "        print(df_denizli)\n",
    "    \n",
    "    elif tercih_düzeltilmiş == \"Diyarbakır\":\n",
    "        print(\"Diyarbakır'ın haftalık Hava Durumu:\\n\")\n",
    "        print(df_diyarbakır)\n",
    "    \n",
    "    elif tercih_düzeltilmiş == \"Erzurum\":\n",
    "        print(\"Erzurum'un haftalık Hava Durumu:\\n\")\n",
    "        print(df_erzurum)\n",
    "    \n",
    "    elif tercih_düzeltilmiş == \"Eskişehir\":\n",
    "        print(\"Eskişehir'in haftalık Hava Durumu:\\n\")\n",
    "        print(df_eskişehir)\n",
    "    \n",
    "    elif tercih_düzeltilmiş == \"Gaziantep\":\n",
    "        print(\"Gaziantep'in haftalık Hava Durumu:\\n\")\n",
    "        print(df_gaziantep)\n",
    "    \n",
    "    elif tercih_düzeltilmiş == \"Hatay\":\n",
    "        print(\"Hatay'ın haftalık Hava Durumu:\\n\")\n",
    "        print(df_hatay)\n",
    "    \n",
    "    elif tercih_düzeltilmiş == \"Istanbul\":\n",
    "        print(\"İstanbul'un haftalık Hava Durumu:\\n\")\n",
    "        print(df_istanbul)\n",
    "    \n",
    "    elif tercih_düzeltilmiş == \"Izmir\":\n",
    "        print(\"İzmir'in haftalık Hava Durumu:\\n\")\n",
    "        print(df_izmir)\n",
    "    \n",
    "    elif tercih_düzeltilmiş == \"Kayseri\":\n",
    "        print(\"Kayseri'nın haftalık Hava Durumu:\\n\")\n",
    "        print(df_kayseri)\n",
    "    \n",
    "    elif tercih_düzeltilmiş == \"Kocaeli\":\n",
    "        print(\"Kocaeli'nin haftalık Hava Durumu:\\n\")\n",
    "        print(df_kocaeli)\n",
    "    \n",
    "    elif tercih_düzeltilmiş == \"Konya\":\n",
    "        print(\"Konya'nın haftalık Hava Durumu:\\n\")\n",
    "        print(df_konya)\n",
    "    \n",
    "    elif tercih_düzeltilmiş == \"Mersin\":\n",
    "        print(\"Mersin'in haftalık Hava Durumu:\\n\")\n",
    "        print(df_mersin)\n",
    "    \n",
    "    elif tercih_düzeltilmiş == \"Sakarya\":\n",
    "        print(\"Sakarya'nın haftalık Hava Durumu:\\n\")\n",
    "        print(df_sakarya)\n",
    "    \n",
    "    elif tercih_düzeltilmiş == \"Samsun\":\n",
    "        print(\"Samsun'un haftalık Hava Durumu:\\n\")\n",
    "        print(df_samsun)\n",
    "                \n",
    "\n",
    "\n",
    "\n",
    "def main():\n",
    "    print(\"AlpaPy Hava Durumu Sorgulayıcıya Hoşgeldiniz.\\n\")\n",
    "    print(\"Hava durumu sorgulayabileceğiniz şehirleri görmek için 1'e basınız. Hava durumu sorgulamak  için 2'ye, çıkmak için ise 0'a basınız.\\n\")\n",
    "\n",
    "    program= None\n",
    "\n",
    "    while True:\n",
    "        program=int(input(\"Yapmak istediğiniz işlemi tuşla sana hemen yardımcı olayım.\"))\n",
    "\n",
    "        if program < 0 or program > 2:\n",
    "            print(\"Yanlış bir rakamı tuşladın. Kontrol edebilir misin?\")\n",
    "        elif program == 0:\n",
    "            print(\"Umarım yardımcı olabilmişimdir. İyi günler dilerim.\")\n",
    "            break\n",
    "        elif program == 1:\n",
    "            display_şehirler()\n",
    "        elif program == 2:\n",
    "            hava_durumu()\n",
    "        \n",
    "            kontrol=input(\"Başka bir şehrin hava durumunu öğrenmek ister misin?\")\n",
    "\n",
    "            if kontrol.lower()==\"evet\":\n",
    "                pass \n",
    "            else:\n",
    "              print(\"Umarım yardımcı olabilmişimdir. İyi günler dilerim.\")\n",
    "              break\n",
    "  \n"
   ]
  },
  {
   "cell_type": "code",
   "execution_count": 3,
   "metadata": {},
   "outputs": [
    {
     "name": "stdout",
     "output_type": "stream",
     "text": [
      "AlpaPy Hava Durumu Sorgulayıcıya Hoşgeldiniz.\n",
      "\n",
      "Hava durumu sorgulayabileceğiniz şehirleri görmek için 1'e basınız. Hava durumu sorgulamak  için 2'ye, çıkmak için ise 0'a basınız.\n",
      "\n",
      "Umarım yardımcı olabilmişimdir. İyi günler dilerim.\n"
     ]
    }
   ],
   "source": [
    "main()"
   ]
  },
  {
   "cell_type": "code",
   "execution_count": null,
   "metadata": {},
   "outputs": [],
   "source": [
    "# Tüm kodlar takır takır çalışıyor. Sadece output boyutu büyük olduğu için text editörden ya da scrollable element'den bakmak gerekebilir."
   ]
  },
  {
   "cell_type": "code",
   "execution_count": 4,
   "metadata": {},
   "outputs": [
    {
     "name": "stdout",
     "output_type": "stream",
     "text": [
      "AlpaPy Hava Durumu Sorgulayıcıya Hoşgeldiniz.\n",
      "\n",
      "Hava durumu sorgulayabileceğiniz şehirleri görmek için 1'e basınız. Hava durumu sorgulamak  için 2'ye, çıkmak için ise 0'a basınız.\n",
      "\n",
      "Aşağıdaki tüm şehirlerin haftalık hava durumunu öğrenebilirsiniz.\n",
      "\n",
      "-------- MEVCUT ŞEHİRLER --------\n",
      "Adana       Ankara      Antalya     Aydın       \n",
      "Balıkesir   Bursa       Denizli     Diyarbakır  \n",
      "Erzurum     Eskişehir   Gaziantep   Hatay       \n",
      "Istanbul    Izmir       Konya       Kayseri     \n",
      "Kocaeli     Mersin      Sakarya     Samsun      \n",
      "\n",
      "\n",
      "Aşağıdaki tüm şehirlerin haftalık hava durumunu öğrenebilirsiniz.\n",
      "\n",
      "-------- MEVCUT ŞEHİRLER --------\n",
      "Adana       Ankara      Antalya     Aydın       \n",
      "Balıkesir   Bursa       Denizli     Diyarbakır  \n",
      "Erzurum     Eskişehir   Gaziantep   Hatay       \n",
      "Istanbul    Izmir       Konya       Kayseri     \n",
      "Kocaeli     Mersin      Sakarya     Samsun      \n",
      "\n",
      "\n",
      "Adana'nın haftalık Hava Durumu:\n",
      "\n"
     ]
    },
    {
     "ename": "NameError",
     "evalue": "name 'df_adana' is not defined",
     "output_type": "error",
     "traceback": [
      "\u001b[1;31m---------------------------------------------------------------------------\u001b[0m",
      "\u001b[1;31mNameError\u001b[0m                                 Traceback (most recent call last)",
      "Cell \u001b[1;32mIn[4], line 49\u001b[0m\n\u001b[0;32m     47\u001b[0m                 \u001b[39mprint\u001b[39m(\u001b[39m\"\u001b[39m\u001b[39mUmarım yardımcı olabilmişimdir. İyi günler dilerim.\u001b[39m\u001b[39m\"\u001b[39m)\n\u001b[0;32m     48\u001b[0m                 \u001b[39mbreak\u001b[39;00m\n\u001b[1;32m---> 49\u001b[0m main()\n",
      "Cell \u001b[1;32mIn[2], line 124\u001b[0m, in \u001b[0;36mmain\u001b[1;34m()\u001b[0m\n\u001b[0;32m    122\u001b[0m     display_şehirler()\n\u001b[0;32m    123\u001b[0m \u001b[39melif\u001b[39;00m program \u001b[39m==\u001b[39m \u001b[39m2\u001b[39m:\n\u001b[1;32m--> 124\u001b[0m     hava_durumu()\n\u001b[0;32m    126\u001b[0m     kontrol\u001b[39m=\u001b[39m\u001b[39minput\u001b[39m(\u001b[39m\"\u001b[39m\u001b[39mBaşka bir şehrin hava durumunu öğrenmek ister misin?\u001b[39m\u001b[39m\"\u001b[39m)\n\u001b[0;32m    128\u001b[0m     \u001b[39mif\u001b[39;00m kontrol\u001b[39m.\u001b[39mlower()\u001b[39m==\u001b[39m\u001b[39m\"\u001b[39m\u001b[39mevet\u001b[39m\u001b[39m\"\u001b[39m:\n",
      "Cell \u001b[1;32mIn[2], line 26\u001b[0m, in \u001b[0;36mhava_durumu\u001b[1;34m()\u001b[0m\n\u001b[0;32m     24\u001b[0m \u001b[39mif\u001b[39;00m tercih_düzeltilmiş \u001b[39m==\u001b[39m \u001b[39m\"\u001b[39m\u001b[39mAdana\u001b[39m\u001b[39m\"\u001b[39m:\n\u001b[0;32m     25\u001b[0m     \u001b[39mprint\u001b[39m(\u001b[39m\"\u001b[39m\u001b[39mAdana\u001b[39m\u001b[39m'\u001b[39m\u001b[39mnın haftalık Hava Durumu:\u001b[39m\u001b[39m\\n\u001b[39;00m\u001b[39m\"\u001b[39m)\n\u001b[1;32m---> 26\u001b[0m     \u001b[39mprint\u001b[39m(df_adana)\n\u001b[0;32m     28\u001b[0m \u001b[39melif\u001b[39;00m tercih_düzeltilmiş \u001b[39m==\u001b[39m \u001b[39m\"\u001b[39m\u001b[39mAnkara\u001b[39m\u001b[39m\"\u001b[39m:\n\u001b[0;32m     29\u001b[0m     \u001b[39mprint\u001b[39m(\u001b[39m\"\u001b[39m\u001b[39mAnkara\u001b[39m\u001b[39m'\u001b[39m\u001b[39mnın haftalık Hava Durumu:\u001b[39m\u001b[39m\\n\u001b[39;00m\u001b[39m\"\u001b[39m)\n",
      "\u001b[1;31mNameError\u001b[0m: name 'df_adana' is not defined"
     ]
    }
   ],
   "source": [
    "# Ali Tarafı\n",
    "\n",
    "import pandas as pd\n",
    "# Class yapısı, kodun daha okunabilir, daha kolay yönetilebilir ve daha esnek olmasını sağlar. Ayrıca, aynı sınıftan birden fazla chatbot örneği oluşturulabilir ve her biri farklı hava durumu bilgilerini yönetebilir.\n",
    "class HavaDurumuSorgulayici:\n",
    "    def __init__(self):\n",
    "        self.sehirler = [\"Adana\",\"Ankara\",\"Antalya\",\"Aydın\",\"Balıkesir\",\"Bursa\",\"Denizli\",\n",
    "                         \"Diyarbakır\",\"Erzurum\",\"Eskişehir\",\"Gaziantep\",\"Hatay\",\"Istanbul\",\n",
    "                         \"Izmir\",\"Konya\",\"Kayseri\",\"Kocaeli\",\"Mersin\",\"Sakarya\",\"Samsun\" ]\n",
    "        self.df_adana = pd.read_excel(\"C:\\\\Users\\\\ali-a\\\\OneDrive\\\\Masaüstü\\\\YetGeN_Proje.xlsx\", sheet_name=\"Adana\")\n",
    "        # Diğer şehirlere ait veri çerçevelerini burada tanımlayabilirsiniz\n",
    "\n",
    "    def display_sehirler(self):\n",
    "        print(\"Aşağıdaki tüm şehirlerin haftalık hava durumunu öğrenebilirsiniz.\\n\")\n",
    "        print(\"-------- MEVCUT ŞEHİRLER --------\")\n",
    "        for i in range(0, len(self.sehirler), 4):\n",
    "            sütun = self.sehirler[i:i+4]\n",
    "            for sehir in sütun:\n",
    "                print(f\"{sehir:<12}\", end=\"\")\n",
    "            print()\n",
    "        print(\"\\n\")\n",
    "\n",
    "    def hava_durumu(self):\n",
    "        self.display_sehirler()\n",
    "        tercih = input(\"Hangi şehrin hava durumunu öğrenmek istersin?\")\n",
    "        tercih_düzeltilmiş = tercih.lower().capitalize()\n",
    "\n",
    "        assert tercih_düzeltilmiş in self.sehirler, \"Bu şehrimizin hava durumu bilgileri şuanda mevcut değil. Başka bir şehir için bilgi almak isterseniz programı tekrar başlatın.\"\n",
    "\n",
    "        if tercih_düzeltilmiş == \"Adana\":\n",
    "            print(\"Adana'nın haftalık Hava Durumu:\\n\")\n",
    "            print(self.df_adana)\n",
    "        # Diğer şehirlerin hava durumu bilgilerini burada kontrol edebilir ve yazdırabilirsiniz\n",
    "        else:\n",
    "            print(f\"{tercih_düzeltilmiş} şehri hava durumu bilgileri bulunamadı.\")\n",
    "\n",
    "    def main(self):\n",
    "        print(\"AlpaPy Hava Durumu Sorgulayıcıya Hoşgeldiniz.\\n\")\n",
    "        print(\"Hava durumu sorgulayabileceğiniz şehirleri görmek için 1'e basınız. Hava durumu sorgulamak  için 2'ye, çıkmak için ise 0'a basınız.\\n\")\n",
    "\n",
    "        while True:\n",
    "            program = int(input(\"Yapmak istediğiniz işlemi tuşla sana hemen yardımcı olayım.\"))\n",
    "\n",
    "            if program < 0 or program > 2:\n",
    "                print(\"Yanlış bir rakamı tuşladın. Kontrol edebilir misin?\")\n",
    "            elif program == 0:\n",
    "                print(\"Umarım yardımcı olabilmişimdir. İyi günler dilerim.\")\n",
    "                break\n",
    "main()"
   ]
  },
  {
   "cell_type": "code",
   "execution_count": null,
   "metadata": {},
   "outputs": [],
   "source": [
    "# Chatgpt versiyonu,  daha chatbot benzeri bir yapıda\n",
    "\n"
   ]
  },
  {
   "cell_type": "code",
   "execution_count": null,
   "metadata": {},
   "outputs": [],
   "source": []
  }
 ],
 "metadata": {
  "kernelspec": {
   "display_name": "Python 3",
   "language": "python",
   "name": "python3"
  },
  "language_info": {
   "codemirror_mode": {
    "name": "ipython",
    "version": 3
   },
   "file_extension": ".py",
   "mimetype": "text/x-python",
   "name": "python",
   "nbconvert_exporter": "python",
   "pygments_lexer": "ipython3",
   "version": "3.11.1"
  },
  "orig_nbformat": 4
 },
 "nbformat": 4,
 "nbformat_minor": 2
}
