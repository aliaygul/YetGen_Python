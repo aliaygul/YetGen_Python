{
 "cells": [
  {
   "attachments": {},
   "cell_type": "markdown",
   "metadata": {},
   "source": [
    "# Karşılaştırma ve Mantıksal Operatörler\n",
    "* \"=\": Atama operatörüdür, değişkeni bir değere atar,\n",
    "* \"==\": İki değerin birbirine eşit olup olmadığını kontrol eder. Eşitse True değilse False değerini döndürür,\n",
    "* \"!=\": Eşit değilmiyi kontrol eder. Eğer eşit değilse True eşitse False değerini döndürür,\n",
    "* \">\": Büyüktür,\n",
    "* \"<\": Küçüktür,"
   ]
  },
  {
   "cell_type": "code",
   "execution_count": 6,
   "metadata": {},
   "outputs": [
    {
     "name": "stdout",
     "output_type": "stream",
     "text": [
      "True\n",
      "False\n",
      "True\n",
      "False\n",
      "True\n",
      "False\n"
     ]
    }
   ],
   "source": [
    "a=5\n",
    "b=5\n",
    "print(a==b)\n",
    "print(a!=b)\n",
    "c=6\n",
    "d=7\n",
    "print(c<d)\n",
    "print(d<c)\n",
    "e=5\n",
    "print(e<=a)\n",
    "print(e>=d)"
   ]
  },
  {
   "cell_type": "code",
   "execution_count": 8,
   "metadata": {},
   "outputs": [
    {
     "name": "stdout",
     "output_type": "stream",
     "text": [
      "False\n"
     ]
    }
   ],
   "source": [
    "username=\"admin\"\n",
    "password=12345\n",
    "print(\"ali\"==username)"
   ]
  },
  {
   "attachments": {},
   "cell_type": "markdown",
   "metadata": {},
   "source": [
    "# Mantıksal Operatörler\n",
    "## and Operatörü\n",
    "Her iki durum da doğruysa True değerini döndürür. Diğer durumlarda da False değerini döndürür.\n",
    "* True and True = True\n",
    "* True and False = False\n",
    "* False and False = True"
   ]
  },
  {
   "cell_type": "code",
   "execution_count": 18,
   "metadata": {},
   "outputs": [
    {
     "name": "stdout",
     "output_type": "stream",
     "text": [
      "False\n",
      "True\n",
      "False\n"
     ]
    }
   ],
   "source": [
    "a = int(input(\"Bir sayı giriniz:\"))\n",
    "print(a>5 and a<100)\n",
    "\n",
    "x=15\n",
    "y= True\n",
    "print(x>10 and y==True)\n",
    "print(x>100 and y== False)"
   ]
  },
  {
   "attachments": {},
   "cell_type": "markdown",
   "metadata": {},
   "source": [
    "## or Operatörü\n",
    "* Yalnızca 2 durumun yanlış olduğu zaman False, diğer her durumda True verir.\n",
    "* True or True = True\n",
    "* True or False = True\n",
    "* False or False = False"
   ]
  },
  {
   "cell_type": "code",
   "execution_count": 20,
   "metadata": {},
   "outputs": [
    {
     "name": "stdout",
     "output_type": "stream",
     "text": [
      "False\n",
      "True\n"
     ]
    }
   ],
   "source": [
    "w=12\n",
    "r=45\n",
    "print(w<1 or r<4)\n",
    "print(w>r or r>w)"
   ]
  },
  {
   "attachments": {},
   "cell_type": "markdown",
   "metadata": {},
   "source": [
    "## not Operatörü\n",
    "* True değerini False,\n",
    "* False değerini True döndürür."
   ]
  },
  {
   "cell_type": "code",
   "execution_count": 24,
   "metadata": {},
   "outputs": [
    {
     "name": "stdout",
     "output_type": "stream",
     "text": [
      "False\n"
     ]
    }
   ],
   "source": [
    "print(not(True))"
   ]
  },
  {
   "cell_type": "markdown",
   "metadata": {},
   "source": [
    "# Karar Yaplıları\n",
    "* Eğer if bloğu doğruysa diğer durumlara bakılmaz ve if bloğu altındaki kodlar çalışır,\n",
    "* else yapısı if ve varsa eğer elif yapısının False olduğu durumlarda çalışır,\n",
    "* elif yapısına birden çok farklı koşullardan doğacak durumların kontrolünü sağlamak için kullanırız.\n",
    "\n",
    "if koşul:\n",
    "        \"koşul doğruysa çalışacak kodlar\"\n",
    "elif koşul2:\n",
    "        \"koşul2 doğruysa çalışacak kodlar\"\n",
    "else:\n",
    "        \"koşul ve koşul2 yanlışsa çalışacak kodlar\" "
   ]
  },
  {
   "cell_type": "code",
   "execution_count": 25,
   "metadata": {},
   "outputs": [
    {
     "name": "stdout",
     "output_type": "stream",
     "text": [
      "Sayınız 50'den küçüktür.\n"
     ]
    }
   ],
   "source": [
    "sayi_al=int(input(\"Sayı giriniz:\"))\n",
    "if sayi_al>=50:\n",
    "    print(\"Sayınız 50 ya da 50'den büyüktür.\")\n",
    "elif sayi_al<50:\n",
    "    print(\"Sayınız 50'den küçüktür.\")\n",
    "else:\n",
    "    print(\"Geçersiz İşlem.\")"
   ]
  },
  {
   "cell_type": "code",
   "execution_count": 41,
   "metadata": {},
   "outputs": [
    {
     "name": "stdout",
     "output_type": "stream",
     "text": [
      "Harf Notu Hesaplayıcıya Hoşgeldiniz\n",
      "Yıl sonu ortalamanız:91.6\n",
      "Harf notunuz AA'dır.\n"
     ]
    }
   ],
   "source": [
    "print(\"Harf Notu Hesaplayıcıya Hoşgeldiniz\")\n",
    "vize_notu= float(input(\"Vize notunuzu giriniz:\"))\n",
    "final_notu= float(input(\"Final notunuzu giriniz:\"))\n",
    "yil_sonu_not_ortalamasi = vize_notu*0.40+final_notu*0.60\n",
    "print(f\"Yıl sonu ortalamanız:{yil_sonu_not_ortalamasi}\")\n",
    "if yil_sonu_not_ortalamasi>=90:\n",
    "    print(\"Harf notunuz AA'dır.\")\n",
    "elif yil_sonu_not_ortalamasi>=85:\n",
    "    print(\"Harf notunuz BB'dir.\")\n",
    "elif yil_sonu_not_ortalamasi>=80:\n",
    "    print(\"Harf notunuz BB'dir.\")\n",
    "elif yil_sonu_not_ortalamasi>=75:\n",
    "    print(\"Harf notunuz CB'dir.\")\n",
    "elif yil_sonu_not_ortalamasi>=70:\n",
    "    print(\"Harf notunuz CC'dir.\")\n",
    "elif yil_sonu_not_ortalamasi>=65:\n",
    "    print(\"Harf notunuz DC'dir.\")\n",
    "elif yil_sonu_not_ortalamasi>=60:\n",
    "    print(\"Harf notunuz DD'dir.\")\n",
    "else:\n",
    "    print(\"Dersten kaldınız, FF.\")\n"
   ]
  },
  {
   "cell_type": "code",
   "execution_count": 43,
   "metadata": {},
   "outputs": [
    {
     "name": "stdout",
     "output_type": "stream",
     "text": [
      "BB\n",
      "CB\n",
      "CC\n",
      "DC\n",
      "DD\n"
     ]
    }
   ],
   "source": [
    "\"\"\" Burada gördüğümüz gibi programımız beklenmedik bir şekilde çalıştı. \n",
    "Çünkü Pythonda programlar her zaman bütün if bloklarını kontrol eder ve koşullar doğruysa bu blokları çalıştırır. \n",
    "İşte böyle not hesaplama gibi programlarda elif kullanmamızın sebebi budur.\n",
    "\"\"\"\n",
    "note = float(input(\"Notunuzu giriniz:\"))\n",
    "\n",
    "if note >= 90:\n",
    "    print(\"AA\")\n",
    "if note >= 85:\n",
    "    print(\"BA\")\n",
    "if note >= 90:\n",
    "    print(\"BA\")\n",
    "if note >= 80:\n",
    "    print(\"BB\")\n",
    "if note >= 75:\n",
    "    print(\"CB\")\n",
    "if note >= 70:\n",
    "    print(\"CC\")\n",
    "if note >= 65:\n",
    "    print(\"DC\")\n",
    "if note >= 60:\n",
    "    print(\"DD\")\n",
    "else:\n",
    "    print(\"Dersten Kaldınız\")\n"
   ]
  },
  {
   "cell_type": "code",
   "execution_count": 51,
   "metadata": {},
   "outputs": [
    {
     "name": "stdout",
     "output_type": "stream",
     "text": [
      "Girdiğiniz ilk sayı 15.0\n",
      "Girdiğiniz ikinci sayı 15.0\n",
      "Girdiğiniz her iki sayı da eşittir.\n"
     ]
    }
   ],
   "source": [
    "sayi1=float(input(\"Sayı Giriniz:\"))\n",
    "sayi2=float(input(\"Sayı Giriniz:\"))\n",
    "print(f\"Girdiğiniz ilk sayı {sayi1}\")\n",
    "print(f\"Girdiğiniz ikinci sayı {sayi2}\")\n",
    "if sayi1>sayi2:\n",
    "    print(\"İlk girdiğiniz sayı girdiğiniz ikinci sayıdan büyüktür.\")\n",
    "elif sayi1<sayi2:\n",
    "    print(\"İkinci girdiğiniz sayı ilk girdiğiniz sayıdan büyüktür.\")\n",
    "else:\n",
    "    print(\"Girdiğiniz her iki sayı da eşittir.\")\n",
    "    \n",
    "    \n",
    "        \n",
    "\n"
   ]
  },
  {
   "cell_type": "code",
   "execution_count": 52,
   "metadata": {},
   "outputs": [
    {
     "name": "stdout",
     "output_type": "stream",
     "text": [
      "Yokmuş\n"
     ]
    }
   ],
   "source": [
    "# in operatörü var mı anlamına geliyor\n",
    "isim=\"Ali\"\n",
    "if \"Aygül\" in isim:\n",
    "    print(\"Varmış\")\n",
    "else:\n",
    "    print(\"Yokmuş\")"
   ]
  },
  {
   "cell_type": "code",
   "execution_count": 53,
   "metadata": {},
   "outputs": [
    {
     "name": "stdout",
     "output_type": "stream",
     "text": [
      "29 sayısı tektir.\n"
     ]
    }
   ],
   "source": [
    "sayi3=int(input(\"Bir sayı giriniz:\"))\n",
    "if sayi3 %2==0:\n",
    "    print(f\"{sayi3} sayısı çifttir.\")\n",
    "else:\n",
    "    print(f\"{sayi3} sayısı tektir.\")"
   ]
  },
  {
   "attachments": {},
   "cell_type": "markdown",
   "metadata": {},
   "source": [
    "# Döngüler\n",
    "## in Operatörü\n",
    "Belirtilen bir değerin, dizi, metin veya demet gibi bir dizinin öğesi olup olmadığını kontrol eder. True ya da False değerini döndürür."
   ]
  },
  {
   "cell_type": "code",
   "execution_count": 5,
   "metadata": {},
   "outputs": [
    {
     "name": "stdout",
     "output_type": "stream",
     "text": [
      "True\n",
      "False\n",
      "True\n"
     ]
    }
   ],
   "source": [
    "a=\"ALİ\"\n",
    "print(\"ALİ\" in a)\n",
    "print(\"SELAM\" in a)\n",
    "print(\"A\" in a)"
   ]
  },
  {
   "attachments": {},
   "cell_type": "markdown",
   "metadata": {},
   "source": [
    "* Döngüler, temel olarak verilen koşullar karşılanana kadar devam eden tekrar eden bir süreçtir,\n",
    "* Döngünün koşulu her zaman doğruysa döngü sonsuza kadar devam eder. Bu döngülere genellikle while döngüsünde rastlarız.\n",
    "* Eğer bir döngünün koşulu baştan yanlışsa bu döngünün çalışmasına baştan izin vermez. Buna \"sıfır açma döngüsü\" denir.\n",
    "\n",
    "## for Döngüsü\n",
    "* for Döngüsü, listelerin, demetlerin, stringlerin ve hatta sözcüklerin üzerinde dolaşmamızı sağlayan bir döngü türüdür. \n",
    "* for döngüsü, programlama dillerinde temel olarak bir kod blokunu belirli bir sayıda ve üst üste çalıştırmak için kullanılan bir döngüdür. Döngü başlangıcında kullanılan değişkene döngü içinde müdahale edilerek tekrar sayısı değiştirilebilir. While döngüsüyle birlikte en çok kullanılan döngüdür.\n",
    "for eleman in veriYapisi:\n",
    "   Yapılacak işlemler\n"
   ]
  },
  {
   "cell_type": "code",
   "execution_count": 2,
   "metadata": {},
   "outputs": [
    {
     "name": "stdout",
     "output_type": "stream",
     "text": [
      "1\n",
      "2\n",
      "3\n",
      "4\n",
      "5\n",
      "1\n",
      "4\n",
      "9\n",
      "16\n",
      "25\n"
     ]
    }
   ],
   "source": [
    "liste=[1,2,3,4,5]\n",
    "for i in liste:\n",
    "    print(i)\n",
    "for i in liste:\n",
    "    print(i**2)"
   ]
  },
  {
   "cell_type": "code",
   "execution_count": 3,
   "metadata": {},
   "outputs": [
    {
     "name": "stdout",
     "output_type": "stream",
     "text": [
      "A\n",
      "l\n",
      "i\n",
      "A\n",
      "y\n",
      "g\n",
      "ü\n",
      "l\n"
     ]
    }
   ],
   "source": [
    "string=\"AliAygül\"\n",
    "for string1 in string:\n",
    "    print(string1)"
   ]
  },
  {
   "cell_type": "code",
   "execution_count": 9,
   "metadata": {},
   "outputs": [
    {
     "name": "stdout",
     "output_type": "stream",
     "text": [
      "1\n",
      "4\n",
      "9\n",
      "16\n",
      "25\n"
     ]
    }
   ],
   "source": [
    "sayilar=\"12345\"\n",
    "for x in sayilar:\n",
    "    print(int(x) * int(x))"
   ]
  },
  {
   "attachments": {},
   "cell_type": "markdown",
   "metadata": {},
   "source": [
    "## while Döngüsü\n",
    "* while döngüleri belli bir koşul sağlandığı sürece bloğundaki işlemleri gerçekleştirmeye devam eder. while döngülerinin sona ermesi için koşul durumunun bir süre sonra False olması gereklidir. Yapısı şu şekildedir;\n",
    "* Belirli bir koşul devam ettikçe döngü içerisindeki kod blokları tekrar tekrar yürütülür. Diğer bir ifade ile belli bir rakamın altında ele alınan değer kapsamında, blok içerisindeki kod satırları devamlı olarak tekrar etme yeteneği elde eder.\n",
    "\n",
    "while koşul:\n",
    "    Yapılacak işlemler"
   ]
  },
  {
   "cell_type": "code",
   "execution_count": 16,
   "metadata": {},
   "outputs": [
    {
     "name": "stdout",
     "output_type": "stream",
     "text": [
      "1\n",
      "*****\n",
      "3\n",
      "3\n",
      "*****\n",
      "5\n",
      "5\n",
      "*****\n",
      "7\n",
      "7\n",
      "*****\n",
      "9\n",
      "9\n",
      "*****\n",
      "11\n"
     ]
    }
   ],
   "source": [
    "q=1\n",
    "while q<10:\n",
    "    print(q)\n",
    "    print(\"*****\")\n",
    "    q +=2\n",
    "    print(q)"
   ]
  },
  {
   "cell_type": "code",
   "execution_count": 20,
   "metadata": {},
   "outputs": [
    {
     "name": "stdout",
     "output_type": "stream",
     "text": [
      "Toplam: 55\n"
     ]
    }
   ],
   "source": [
    "sum = 0\n",
    "İ = 1\n",
    "while İ<11:\n",
    "    sum +=İ # sum = sum + İ\n",
    "    İ +=1\n",
    "print(\"Toplam:\",sum)\n",
    "\n",
    "\"\"\" toplam(sum)=0 dedik ve İ değişkenimizi de 1'e eşitledik.\n",
    "Sonrasında İ<11'den küçük olduğu sürece toplama(sum) İ'değerini ekliyoruz.\n",
    "Aynı zamanda da İ değeri de sürekli +1 artıyor ve bu sayede de sonsuz dögü olmuyor.\n",
    "İ 11 den küçük olacak şekilde 10'a kadar artıyor ve toplamı bize veriyor."
   ]
  },
  {
   "attachments": {},
   "cell_type": "markdown",
   "metadata": {},
   "source": [
    "## range() Fonksiyonu\n",
    "* range(başlangıç,bitiş,artış miktarı) şeklinde kullanılır."
   ]
  },
  {
   "cell_type": "code",
   "execution_count": 26,
   "metadata": {},
   "outputs": [
    {
     "name": "stdout",
     "output_type": "stream",
     "text": [
      "1\n",
      "3\n",
      "5\n",
      "7\n",
      "9\n",
      "11\n",
      "13\n",
      "15\n",
      "17\n",
      "19\n"
     ]
    }
   ],
   "source": [
    "Y = (1,5,3,6)\n",
    "for Y in range(1,20,2):\n",
    "    print(Y)"
   ]
  },
  {
   "cell_type": "code",
   "execution_count": 30,
   "metadata": {},
   "outputs": [
    {
     "name": "stdout",
     "output_type": "stream",
     "text": [
      "19\n",
      "19\n"
     ]
    }
   ],
   "source": [
    "Z = (1,2,3,4,5,6,7,8,9)\n",
    "for Z in range(1,5,2):\n",
    "    print(Y)"
   ]
  },
  {
   "cell_type": "code",
   "execution_count": 31,
   "metadata": {},
   "outputs": [
    {
     "name": "stdout",
     "output_type": "stream",
     "text": [
      "0\n",
      "1\n",
      "2\n",
      "3\n",
      "4\n"
     ]
    }
   ],
   "source": [
    "X = (5,4,3,2) \n",
    "for X in range(5):\n",
    "    print(X)\n",
    "# 0'dan başla, 5'e kadar 1'er arttırarak git demek."
   ]
  },
  {
   "cell_type": "code",
   "execution_count": 33,
   "metadata": {},
   "outputs": [
    {
     "name": "stdout",
     "output_type": "stream",
     "text": [
      "0\n",
      "10\n",
      "20\n",
      "30\n",
      "40\n",
      "50\n",
      "60\n",
      "70\n",
      "80\n",
      "90\n",
      "100\n"
     ]
    }
   ],
   "source": [
    "for X in range(0,101,10):\n",
    "    print(X)"
   ]
  },
  {
   "attachments": {},
   "cell_type": "markdown",
   "metadata": {},
   "source": [
    "## break\n",
    "* break ifadesi döngüyü sonlandırır.\n",
    "\n",
    "## continue \n",
    "* continue ifadesi döngüyü devam ettirir."
   ]
  },
  {
   "cell_type": "code",
   "execution_count": 35,
   "metadata": {},
   "outputs": [
    {
     "name": "stdout",
     "output_type": "stream",
     "text": [
      "0\n",
      "1\n",
      "2\n",
      "3\n",
      "4\n"
     ]
    }
   ],
   "source": [
    "L = 0\n",
    "while L<10:\n",
    "    if(L==5):\n",
    "        break\n",
    "    else:\n",
    "        print(L)\n",
    "    L += 1"
   ]
  },
  {
   "cell_type": "code",
   "execution_count": 36,
   "metadata": {},
   "outputs": [
    {
     "name": "stdout",
     "output_type": "stream",
     "text": [
      "Uygulamadan çıkmak için Q tuşuna basınız\n",
      "Yaşınızı: 25\n",
      "Uygulamadan çıkmak için Q tuşuna basınız\n",
      "Yaşınızı: 24\n",
      "Uygulamadan çıkmak için Q tuşuna basınız\n",
      "Yaşınızı: 25\n",
      "Uygulamadan çıkmak için Q tuşuna basınız\n"
     ]
    }
   ],
   "source": [
    "while True:\n",
    "    print(\"Uygulamadan çıkmak için Q tuşuna basınız\")\n",
    "    yas = input(\"Yaş:\")\n",
    "    if(yas==\"q\"):\n",
    "        break\n",
    "    else:\n",
    "        print(\"Yaşınızı:\",yas)\n"
   ]
  },
  {
   "cell_type": "code",
   "execution_count": 39,
   "metadata": {},
   "outputs": [
    {
     "name": "stdout",
     "output_type": "stream",
     "text": [
      "0\n",
      "1\n",
      "2\n",
      "3\n",
      "4\n",
      "6\n"
     ]
    }
   ],
   "source": [
    "for G in range(7):\n",
    "    if G ==5:\n",
    "        continue\n",
    "    print(G)"
   ]
  }
 ],
 "metadata": {
  "kernelspec": {
   "display_name": "Python 3",
   "language": "python",
   "name": "python3"
  },
  "language_info": {
   "codemirror_mode": {
    "name": "ipython",
    "version": 3
   },
   "file_extension": ".py",
   "mimetype": "text/x-python",
   "name": "python",
   "nbconvert_exporter": "python",
   "pygments_lexer": "ipython3",
   "version": "3.11.1"
  },
  "orig_nbformat": 4
 },
 "nbformat": 4,
 "nbformat_minor": 2
}
