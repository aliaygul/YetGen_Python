{
 "cells": [
  {
   "attachments": {},
   "cell_type": "markdown",
   "metadata": {},
   "source": [
    "# Problem 1\n",
    "Bir YetGenli yeni aldığı bahçesinin etrafına çit çevirmek istiyor. Bahçenin etrafını çit ile çevirmek için gerekli çit uzunluğunu ve bahçenin alanını hesaplayan fonksiyonu yazınız."
   ]
  },
  {
   "cell_type": "code",
   "execution_count": 6,
   "metadata": {},
   "outputs": [
    {
     "name": "stdout",
     "output_type": "stream",
     "text": [
      "Taban Boyu 15, yükseklik boyu 4, alan 60\n"
     ]
    }
   ],
   "source": [
    "def citAlani(x,y):\n",
    "    alan=x*y\n",
    "    return(alan)\n",
    "a=int(input(\"Taban Boyunu Giriniz:\"))\n",
    "b=int(input(\"Yükseklik Boyunu Girin:\"))\n",
    "print(f\"Taban Boyu {a}, yükseklik boyu {b}, alan\" ,citAlani(a,b))"
   ]
  },
  {
   "attachments": {},
   "cell_type": "markdown",
   "metadata": {},
   "source": [
    "# Problem 2\n",
    "Kendisine gönderilen 2 sayı arasındaki tüm asal sayıları bulan fonksiyonu yazınız."
   ]
  },
  {
   "cell_type": "code",
   "execution_count": 7,
   "metadata": {},
   "outputs": [
    {
     "name": "stdout",
     "output_type": "stream",
     "text": [
      "2\n",
      "3\n",
      "5\n",
      "7\n",
      "11\n",
      "13\n"
     ]
    }
   ],
   "source": [
    "def asalSayılariBul(sayi1, sayi2):\n",
    "    for sayi in range(sayi1, sayi2+1):\n",
    "        if sayi > 1:\n",
    "            for i in range(2, sayi):\n",
    "                if (sayi % i == 0):\n",
    "                    break\n",
    "            else:\n",
    "                print(sayi)\n",
    "\n",
    "sayi1 = int(input('sayı 1:'))\n",
    "sayi2 = int(input('sayı 2:'))\n",
    "\n",
    "asalSayılariBul(sayi1, sayi2)"
   ]
  },
  {
   "attachments": {},
   "cell_type": "markdown",
   "metadata": {},
   "source": [
    "# Problem 3\n",
    "YetGen liderlerinin kurdukları girişim unicorn oluyor. YetGen liderleri iş arkadaşlarının alacağı ücretlerini hesaplamak için bir fonksiyon yazdılar. Bu fonksiyonu kullanarak, YetGen liderlerinin iş arkadaşlarına verecekleri ücretleri hesaplayınız.\n",
    "\n",
    "Ücret hesaplanması çalışma saatine bağlıdır. Bunun için kullanıcıdan çalışma saati bilgisini alın. Sonrasında yapılacak ödemenin hesaplanacağı computePay() adlı bir fonksiyon oluşturun. Bu fonksiyonun içinde işlemler yapın. Çalışma saati 40 ve altındaysa saat başına ücret 10 TL’dir. 40 saatin üstünde çalışıldıysa saat başına ücret 15 TL sayılmaktadır.\n",
    "\n",
    "```\n",
    "Test etmek için 30 saat değerini giriniz,  sonuç 300 TL çıkmalı, \n",
    "ikincil test olarak 50 değerini giriniz,  sonuç 750 TL çıkmalı.\n",
    "```"
   ]
  },
  {
   "cell_type": "code",
   "execution_count": 9,
   "metadata": {},
   "outputs": [
    {
     "data": {
      "text/plain": [
       "750.0"
      ]
     },
     "execution_count": 9,
     "metadata": {},
     "output_type": "execute_result"
    }
   ],
   "source": [
    "a=float(input(\"Kaç Saat Çalıştınız:\"))\n",
    "\n",
    "def paraHesaplama(b=10,c=15):\n",
    "    ucret1=a*b\n",
    "    ucret2=a*c\n",
    "    if a<40:\n",
    "        return ucret1\n",
    "    else:\n",
    "        return ucret2\n",
    "paraHesaplama()\n",
    "\n",
    "\n",
    "\n",
    "\n"
   ]
  },
  {
   "attachments": {},
   "cell_type": "markdown",
   "metadata": {},
   "source": [
    "# Problem 4\n",
    "YetGenliler zirveye gitmek için toplanıyor. Zirveye gitmek için kiraladıkları araçlar 4'er kişiliktir. Gelecek kişi sayısı için Airtable üzerinde form açılıyor. Gelecek kişi sayısını alıp dört kişilik araçlara bölüp kalan kişi sayısını döndüren bir fonksiyon yazınız."
   ]
  },
  {
   "cell_type": "code",
   "execution_count": 14,
   "metadata": {},
   "outputs": [
    {
     "name": "stdout",
     "output_type": "stream",
     "text": [
      "Geziye gelecek toplam kişi sayısı 87, kiralanacak servis sayısı da 22 .\n"
     ]
    }
   ],
   "source": [
    "a=int(input(\"Kaç Kişi Geziye Geleceğinizi Belirtiniz:\"))\n",
    "\n",
    "def servisHesaplama(c):\n",
    "    servis_sayisi=a//4\n",
    "    kalan=a%4\n",
    "    if kalan>0:\n",
    "        servis_sayisi+=1\n",
    "    return servis_sayisi\n",
    "print(f\"Geziye gelecek toplam kişi sayısı {a}, kiralanacak servis sayısı da\",servisHesaplama(a),\".\")\n"
   ]
  },
  {
   "attachments": {},
   "cell_type": "markdown",
   "metadata": {},
   "source": [
    "# Problem 5\n",
    "sayiTopla() adında bir fonksiyon yazın. sayiTopla() fonksiyonu girilen sayıları toplayarak yazdırmasını sağlayan bir fonksiyon yazınız.\n",
    "\n",
    "Örneğin sayiTopla(1,2,3,4,5) yazdığımızda 15 çıktısını almalıyız. sayiTopla(1,2,3,4,5,6,7,8,9,10) yazdığımızda 55 çıktısını almalıyız."
   ]
  },
  {
   "cell_type": "code",
   "execution_count": 19,
   "metadata": {},
   "outputs": [
    {
     "data": {
      "text/plain": [
       "55"
      ]
     },
     "execution_count": 19,
     "metadata": {},
     "output_type": "execute_result"
    }
   ],
   "source": [
    "def sayiTopla(*sayilar):\n",
    "    toplam = 0\n",
    "    for sayi in sayilar:\n",
    "        toplam += sayi\n",
    "    return toplam\n",
    "sayiTopla(1,2,3,4,5)\n",
    "sayiTopla(1,2,3,4,5,6,7,8,9,10)"
   ]
  },
  {
   "attachments": {},
   "cell_type": "markdown",
   "metadata": {},
   "source": [
    "# Problem 6\n",
    "\n",
    "[(\"xxx\",1),(\"xxx\",2),(\"xxx\",9),(\"xxx\",3), (\"xxx\",1),(\"xxx\",13),(\"xxx\",26),(\"xxx\",4)] listesi içerisinde verilen elemanların her birini tuple içindeki 2. Elemana göre sıralayınız. \n",
    "\n"
   ]
  },
  {
   "cell_type": "code",
   "execution_count": null,
   "metadata": {},
   "outputs": [],
   "source": []
  },
  {
   "attachments": {},
   "cell_type": "markdown",
   "metadata": {},
   "source": [
    "# Problem 7\n",
    "List comprehension kullanarak 1'den 100'e kadar olan sayılardan sadece çift sayıları bir listeye atmayı yapmayı çalışın."
   ]
  },
  {
   "cell_type": "code",
   "execution_count": null,
   "metadata": {},
   "outputs": [],
   "source": []
  },
  {
   "attachments": {},
   "cell_type": "markdown",
   "metadata": {},
   "source": [
    "# Problem 8\n",
    "\n",
    "Fizikte, bir nesnenin sabit ivmeyle hareket ederken son hızını \n",
    "(veya hızını) bulmak için aşağıdaki denklem kullanılabilir:\n",
    "```\n",
    "vf = vi + at\n",
    "burada:\n",
    "vf= son hız\n",
    "vi= ilk hız\n",
    "a= hızlanma\n",
    "t= zaman\n",
    "```\n",
    "İlk hız, ivme ve zaman verildiğinde, son hızı döndürecek bir fonksiyon yazın."
   ]
  },
  {
   "cell_type": "code",
   "execution_count": null,
   "metadata": {},
   "outputs": [],
   "source": []
  },
  {
   "attachments": {},
   "cell_type": "markdown",
   "metadata": {},
   "source": [
    "# Problem 9\n",
    "\n",
    "1'den 1000'e kadar olan sayılardan mükemmel sayı olanları ekrana yazdırın. Bunun için bir sayının mükemmel olup olmadığını dönen bir tane fonksiyon yazın.\n",
    "\n",
    "Bir sayının bölenlerinin toplamı kendine eşitse bu sayı mükemmel bir sayıdır. Örnek olarak 6 mükemmel bir sayıdır (1 + 2 + 3 = 6)."
   ]
  },
  {
   "cell_type": "code",
   "execution_count": null,
   "metadata": {},
   "outputs": [],
   "source": []
  },
  {
   "attachments": {},
   "cell_type": "markdown",
   "metadata": {},
   "source": [
    "# Problem 10\n",
    "\n",
    "1'den 100'e kadar olan sayılardan pisagor üçgeni oluşturanları ekrana yazdıran bir fonksiyon yazın.(a <= 100,b <= 100)\n"
   ]
  },
  {
   "cell_type": "code",
   "execution_count": null,
   "metadata": {},
   "outputs": [],
   "source": []
  },
  {
   "attachments": {},
   "cell_type": "markdown",
   "metadata": {},
   "source": [
    "# Problem 11\n",
    "\n",
    "Bir duvar boyamaya karar verdiniz. Boya kutusunun üzerindeki talimatta, 1 kutu boyanın 5 metrekarelik bir duvarı boyayabileceği yazıyor. Rastgele bir duvar yüksekliği ve genişliği verildiğinde, kaç kutu boya satın almanız gerektiğini hesaplayın.\n",
    "\n",
    "kutu sayısı = (duvar yüksekliği * duvar genişliği) ÷ kutu başına kaplama.\n",
    "\n",
    "örneğin Yükseklik = 2, Genişlik = 4, Kaplama = 5\n",
    "\n",
    "kutu sayısı = (2 * 4) ÷ 5 = 1.6\n",
    "\n",
    "Ancak bir kutu boyanın 0,6'sını satın alamayacağınız için, sonuç 2 kutuya yuvarlanmalıdır .\n"
   ]
  },
  {
   "cell_type": "code",
   "execution_count": null,
   "metadata": {},
   "outputs": [],
   "source": []
  },
  {
   "attachments": {},
   "cell_type": "markdown",
   "metadata": {},
   "source": [
    "# Problem 12\n",
    "\n",
    "Bir kelimedeki ünlü ve ünsüz harfleri sayan bir fonksiyon yazınız."
   ]
  },
  {
   "cell_type": "code",
   "execution_count": null,
   "metadata": {},
   "outputs": [],
   "source": []
  },
  {
   "attachments": {},
   "cell_type": "markdown",
   "metadata": {},
   "source": [
    "# Problem 13\n",
    "\n",
    "Verilen bir listeden çift sayıları yazdıran bir fonksiyon yazınız.\n"
   ]
  },
  {
   "cell_type": "code",
   "execution_count": null,
   "metadata": {},
   "outputs": [],
   "source": []
  },
  {
   "attachments": {},
   "cell_type": "markdown",
   "metadata": {},
   "source": [
    "# Problem 14\n",
    "\n",
    "0'dan 10'a kadar olan sayıların toplamını hesaplayan özyinelemeli (Recursive Function) bir fonksiyon oluşturan bir fonksiyon yazınız.\n",
    "\n",
    "Özyinelemeli (Recursive Function) bir işlev, kendini tekrar tekrar çağıran bir işlevdir."
   ]
  },
  {
   "cell_type": "code",
   "execution_count": null,
   "metadata": {},
   "outputs": [],
   "source": []
  },
  {
   "attachments": {},
   "cell_type": "markdown",
   "metadata": {},
   "source": [
    "# Problem 15\n",
    "Elinizde bir dikdörtgenin kenarlarını ifade eden sayı çiftlerinin bulunduğu bir liste olsun.\n",
    "\n",
    "     [(3,4),(10,3),(5,6),(1,9)]\n",
    "\n",
    "Şimdi kenar uzunluklarına göre dikdörtgenin alanını hesaplayan bir fonksiyon yazın ve bu listenin her bir elemanına bu fonksiyonu uygulayarak ekrana şöyle bir liste yazdırın.\n",
    "\n",
    "     [12, 30, 30, 9]\n",
    "\n",
    "İpucu : map() fonksiyonunu kullanmaya çalışın."
   ]
  },
  {
   "cell_type": "code",
   "execution_count": null,
   "metadata": {},
   "outputs": [],
   "source": []
  },
  {
   "attachments": {},
   "cell_type": "markdown",
   "metadata": {},
   "source": [
    "# Problem 16\n",
    "\n",
    "Elinizden her bir elemanı 3'lü bir demet olan bir liste olsun.\n",
    "\n",
    " ```[(3,4,5),(6,8,10),(3,10,7)]```\n",
    "\n",
    "Şimdi kenar uzunluklarına göre bu kenarların bir üçgen oluşturup oluşturmadığını döndüren bir fonksiyon yazın ve sadece üçgen oluşturan kenarları bulunduran listeyi ekrana yazdırın.\n",
    "\n",
    " ```[(3, 4, 5), (6, 8, 10)]```\n",
    "\n",
    "İpucu: filter() fonksiyonunu kullanmaya çalışın."
   ]
  },
  {
   "cell_type": "code",
   "execution_count": null,
   "metadata": {},
   "outputs": [],
   "source": []
  },
  {
   "attachments": {},
   "cell_type": "markdown",
   "metadata": {},
   "source": [
    "# Problem 17\n",
    "Elinizde aşağıdaki gibi bir liste bulunmaktadır.\n",
    "\n",
    "```[1,2,3,4,5,6,7,8,9,10]```\n",
    "\n",
    "Bu listenin içindeki çift sayıların toplamını ekrana yazdıran bir fonksiyon yazın.\n",
    "\n",
    "İpucu: İlk önce filter() fonksiyonu ile çift sayıları ayıklayın. Daha sonra reduce() fonksiyonunu kullanın."
   ]
  },
  {
   "cell_type": "code",
   "execution_count": null,
   "metadata": {},
   "outputs": [],
   "source": []
  },
  {
   "attachments": {},
   "cell_type": "markdown",
   "metadata": {},
   "source": [
    "# Problem 18\n",
    "\n",
    "Elinizde isimlerin ve soyisimlerin bulunduğu iki tane liste bulunmaktadır.\n",
    "\n",
    "    isimler -----> [\"Kerim\",\"Tarık\",\"Ezgi\",\"Kemal\",\"İlkay\",\"Şükran\",\"Merve\"]\n",
    "\n",
    "    soyisimler -----> [\"Yılmaz\",\"Öztürk\",\"Dağdeviren\",\"Atatürk\",\"Dikmen\",\"Kaya\",\"Polat\"]\n",
    "    \n",
    "Bu isimleri ve soyisimleri sırasıyla eşleştirin ve ekrana alt alta isimleri ve soyisimleri yazdırın.\n",
    "\n",
    "İpucu: zip() fonksiyonunu kullanmaya kullanın."
   ]
  },
  {
   "cell_type": "code",
   "execution_count": null,
   "metadata": {},
   "outputs": [],
   "source": []
  },
  {
   "attachments": {},
   "cell_type": "markdown",
   "metadata": {},
   "source": [
    "------------------------------------------------------------------------------------------------------------------------------------------------------------"
   ]
  },
  {
   "attachments": {},
   "cell_type": "markdown",
   "metadata": {},
   "source": [
    "# Problem 19\n",
    "\n",
    "İçerisinde yetgen, core, python2, programı, 2022, basic2 elemanları bulunan bir liste oluşturun.\n",
    "\n",
    "Bu listenin içindeki stringlerden içinde sadece rakam bulunanları ekrana yazdırın. Bunu yaparken try, except bloklarını kullanmayı unutmayın."
   ]
  },
  {
   "cell_type": "code",
   "execution_count": null,
   "metadata": {},
   "outputs": [],
   "source": []
  },
  {
   "attachments": {},
   "cell_type": "markdown",
   "metadata": {},
   "source": [
    "# Problem 20\n",
    "Bir sayının çift olup olmadığını sorgulayan bir fonksiyon yazın. Bu fonksiyon, eğer sayı çift ise bu değeri dönsün. Ancak sayı tek sayı ise fonksiyon raise ile ValueError hatası oluştursun. Daha sonra, içinde çift ve tek sayılar bulunduran bir liste tanımlayın ve liste üzerinde gezinerek ekrana sadece çift sayıları bastırın."
   ]
  },
  {
   "cell_type": "code",
   "execution_count": null,
   "metadata": {},
   "outputs": [],
   "source": []
  },
  {
   "attachments": {},
   "cell_type": "markdown",
   "metadata": {},
   "source": [
    "# Problem 21\n",
    "\n",
    "2 YetGen lideri ders sırasında canları sıkılınca oyun oynamak isterler. Ancak hangi oyunu oynayacaklarına karar veremezler ve son olarak kendi oyunlarını yazmaya karar verirler.\n",
    "Liderlerimizin kodlamak istediği oyun kuralları şöyledir:\n",
    "- Oyunda random olarak 0 ile 100 arasında bir sayı tutulur.\n",
    "- Kullanıcıdan bilgisayarın tuttuğu sayıyı tahmin etmesi için bir sayı girmesini istenir.\n",
    "- Eğer kullanıcının girdiği sayı bulunması gereken sayıdan küçükse  tahmininizi yükseltin, büyükse tahmininizi düşürün şeklinde bir çıktı verilir.\n",
    "- Oyunun gerçeğe yakın olması için bilgisayarın çalışmasını simgelemek için 1 saniye bekleme süresi tanınır.\n",
    "- Kullanıcı 5 hakkı vardır. 5 hakkı da kullanıp sayıyı bulamazsa oyunu kaybeder."
   ]
  },
  {
   "cell_type": "code",
   "execution_count": null,
   "metadata": {},
   "outputs": [],
   "source": []
  }
 ],
 "metadata": {
  "kernelspec": {
   "display_name": "Python 3",
   "language": "python",
   "name": "python3"
  },
  "language_info": {
   "codemirror_mode": {
    "name": "ipython",
    "version": 3
   },
   "file_extension": ".py",
   "mimetype": "text/x-python",
   "name": "python",
   "nbconvert_exporter": "python",
   "pygments_lexer": "ipython3",
   "version": "3.11.1"
  },
  "orig_nbformat": 4
 },
 "nbformat": 4,
 "nbformat_minor": 2
}
