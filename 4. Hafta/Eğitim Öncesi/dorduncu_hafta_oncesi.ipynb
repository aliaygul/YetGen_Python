{
 "cells": [
  {
   "attachments": {},
   "cell_type": "markdown",
   "metadata": {},
   "source": [
    "# Listeler\n",
    "* [] içerisinde tutulurlar,\n",
    "* Indexleme, veri güncelleme, silme ve veri ekleme gibi işlemler yapılabilir.\n",
    "* İç içe listeleme işlemi yapılabilir.\n"
   ]
  },
  {
   "cell_type": "code",
   "execution_count": 3,
   "metadata": {},
   "outputs": [
    {
     "name": "stdout",
     "output_type": "stream",
     "text": [
      "['Ali', 'Aygül', 'Naber', 'Nasılsın']\n",
      "Ali\n",
      "Nasılsın\n"
     ]
    }
   ],
   "source": [
    "liste= [\"Ali\", \"Aygül\", \"Naber\", \"Nasılsın\"]\n",
    "print(liste)\n",
    "print(liste[0]) # 0'ıncı eleman Ali'dir.\n",
    "print(liste[-1]) # -1'inci eleman son elemandır."
   ]
  },
  {
   "attachments": {},
   "cell_type": "markdown",
   "metadata": {},
   "source": [
    "# Liste Metodları\n",
    "## append()\n",
    "* Listenin sonuna eleman ekler.\n",
    "\n",
    "## remove()\n",
    "* Listenin içerisindeki elemanı siler."
   ]
  },
  {
   "cell_type": "code",
   "execution_count": 9,
   "metadata": {},
   "outputs": [
    {
     "name": "stdout",
     "output_type": "stream",
     "text": [
      "['Ankara', 'İstanbul', 'İzmir', 'Amasya']\n",
      "------------------------------\n",
      "Ankara\n",
      "Amasya\n",
      "------------------------------\n",
      "['Ankara', 'İzmir', 'Amasya', 'Samsun']\n"
     ]
    }
   ],
   "source": [
    "liste=[\"Ankara\",\"İstanbul\",\"İzmir\",\"Amasya\"]\n",
    "print(liste)\n",
    "print(\"------------------------------\")\n",
    "print(liste[0]) # Listedeki ilk elemanı verir.\n",
    "print(liste[-1]) # Listedeki son elemanı verir.\n",
    "print(\"------------------------------\")\n",
    "\n",
    "liste.append(\"Samsun\")\n",
    "liste.remove(\"İstanbul\")\n",
    "print(liste)"
   ]
  },
  {
   "attachments": {},
   "cell_type": "markdown",
   "metadata": {},
   "source": [
    "## len()\n",
    "* Listenin uzunluğunu verir."
   ]
  },
  {
   "cell_type": "code",
   "execution_count": 13,
   "metadata": {},
   "outputs": [
    {
     "name": "stdout",
     "output_type": "stream",
     "text": [
      "3\n"
     ]
    }
   ],
   "source": [
    "Liste=[\"Antalya\",\"Bursa\",\"Muğla\"]\n",
    "print(len(Liste))"
   ]
  },
  {
   "attachments": {},
   "cell_type": "markdown",
   "metadata": {},
   "source": [
    "## clear()\n",
    "* Listenin içerisindeki elemanları siler."
   ]
  },
  {
   "cell_type": "code",
   "execution_count": 14,
   "metadata": {},
   "outputs": [
    {
     "name": "stdout",
     "output_type": "stream",
     "text": [
      "[1, 223, 'kalem']\n",
      "------------------------------\n",
      "[]\n"
     ]
    }
   ],
   "source": [
    "lİste=[1,223,\"kalem\"]\n",
    "print(lİste)\n",
    "print(\"------------------------------\")\n",
    "lİste.clear()\n",
    "print(lİste)\n"
   ]
  },
  {
   "attachments": {},
   "cell_type": "markdown",
   "metadata": {},
   "source": [
    "### Böyle de liste yapabilirsin"
   ]
  },
  {
   "cell_type": "code",
   "execution_count": 17,
   "metadata": {},
   "outputs": [
    {
     "name": "stdout",
     "output_type": "stream",
     "text": [
      "['Ankara', 'İstanbul', 'Aydın']\n"
     ]
    }
   ],
   "source": [
    "şehirler=list((\"Ankara\", \"İstanbul\", \"Aydın\"))\n",
    "print(şehirler)"
   ]
  },
  {
   "attachments": {},
   "cell_type": "markdown",
   "metadata": {},
   "source": [
    "## index()\n",
    "* Listedeki elemanın indexini verir.\n",
    "* Aranan veriyi ilk bulduğunda durur, diğer verilerde aynı veri varsa getiremez,\n",
    "* Eğer veri bulunamazsa ValueError hatası verir."
   ]
  },
  {
   "cell_type": "code",
   "execution_count": 21,
   "metadata": {},
   "outputs": [
    {
     "name": "stdout",
     "output_type": "stream",
     "text": [
      "Ankara'nın indeksi:  0\n"
     ]
    }
   ],
   "source": [
    "sehir=[\"Ankara\",\"İstanbul\",\"İzmir\"]\n",
    "print(\"Ankara'nın indeksi: \", sehir.index(\"Ankara\"))"
   ]
  },
  {
   "cell_type": "code",
   "execution_count": 19,
   "metadata": {},
   "outputs": [
    {
     "ename": "ValueError",
     "evalue": "'Antalya' is not in list",
     "output_type": "error",
     "traceback": [
      "\u001b[1;31m---------------------------------------------------------------------------\u001b[0m",
      "\u001b[1;31mValueError\u001b[0m                                Traceback (most recent call last)",
      "Cell \u001b[1;32mIn[19], line 1\u001b[0m\n\u001b[1;32m----> 1\u001b[0m \u001b[39mprint\u001b[39m(\u001b[39m\"\u001b[39m\u001b[39mAntalya\u001b[39m\u001b[39m'\u001b[39m\u001b[39mnın Indeksi: \u001b[39m\u001b[39m\"\u001b[39m, sehir\u001b[39m.\u001b[39;49mindex(\u001b[39m\"\u001b[39;49m\u001b[39mAntalya\u001b[39;49m\u001b[39m\"\u001b[39;49m))\n",
      "\u001b[1;31mValueError\u001b[0m: 'Antalya' is not in list"
     ]
    }
   ],
   "source": [
    "# Listede Antalya olmadığı için valuerror verir.\n",
    "print(\"Antalya'nın Indeksi: \", sehir.index(\"Antalya\"))"
   ]
  },
  {
   "attachments": {},
   "cell_type": "markdown",
   "metadata": {},
   "source": [
    "## pop()\n",
    "* Listedeki elemanı siler,\n",
    "* Index verilmezse son elemanı siler,\n",
    "* Index verilirse verilen indexdeki elemanı siler."
   ]
  },
  {
   "cell_type": "code",
   "execution_count": 24,
   "metadata": {},
   "outputs": [
    {
     "name": "stdout",
     "output_type": "stream",
     "text": [
      "Can\n",
      "Ali\n",
      "['Furkan']\n"
     ]
    }
   ],
   "source": [
    "isimler=[\"Ali\", \"Furkan\", \"Can\"]\n",
    "print(isimler.pop()) \n",
    "print(isimler.pop(0))\n",
    "print(isimler)\n"
   ]
  },
  {
   "attachments": {},
   "cell_type": "markdown",
   "metadata": {},
   "source": [
    "## insert()\n",
    "* İstenilen indexe eleman ekler"
   ]
  },
  {
   "cell_type": "code",
   "execution_count": 25,
   "metadata": {},
   "outputs": [
    {
     "name": "stdout",
     "output_type": "stream",
     "text": [
      "['Amasya', 'İstanbul', 'Çanakkale', 'İzmir']\n"
     ]
    }
   ],
   "source": [
    "en_sevdiğim_sehirler=[\"İstanbul\",\"Çanakkale\",\"İzmir\"]\n",
    "en_sevdiğim_sehirler.insert(0,\"Amasya\")\n",
    "print(en_sevdiğim_sehirler)"
   ]
  },
  {
   "attachments": {},
   "cell_type": "markdown",
   "metadata": {},
   "source": [
    "## reverse\n",
    "* Listeyi ters çevirir."
   ]
  },
  {
   "cell_type": "code",
   "execution_count": 29,
   "metadata": {},
   "outputs": [
    {
     "name": "stdout",
     "output_type": "stream",
     "text": [
      "[5, 4, 3, 2, 1]\n"
     ]
    }
   ],
   "source": [
    "sayilar=[1,2,3,4,5]\n",
    "sayilar.reverse()\n",
    "print(sayilar)"
   ]
  },
  {
   "attachments": {},
   "cell_type": "markdown",
   "metadata": {},
   "source": [
    "## sort()\n",
    "* Listeyi küçükten büyüğe sıralar."
   ]
  },
  {
   "cell_type": "code",
   "execution_count": 33,
   "metadata": {},
   "outputs": [
    {
     "name": "stdout",
     "output_type": "stream",
     "text": [
      "[0, 1, 2, 3, 4, 4, 6, 7]\n",
      "------------------------------\n",
      "['adıyaman', 'amasya', 'canakkale', 'istanbul', 'zonguldak']\n"
     ]
    }
   ],
   "source": [
    "sayilar1=[1,4,2,6,4,7,0,3]\n",
    "sayilar1.sort()\n",
    "print(sayilar1)\n",
    "\n",
    "print(\"------------------------------\")\n",
    "\n",
    "turk_sehirler=[\"adıyaman\",\"canakkale\",\"istanbul\",\"amasya\",\"zonguldak\"]\n",
    "turk_sehirler.sort()\n",
    "print(turk_sehirler)"
   ]
  },
  {
   "attachments": {},
   "cell_type": "markdown",
   "metadata": {},
   "source": [
    "# Liste Toplama\n",
    "* \"+\" İki listeyi birleştirir."
   ]
  },
  {
   "cell_type": "code",
   "execution_count": 34,
   "metadata": {},
   "outputs": [
    {
     "name": "stdout",
     "output_type": "stream",
     "text": [
      "['selam', 'naber', 'nasılsın', 'iyi günler', 'iyi geceler', 'iyi akşamlar']\n"
     ]
    }
   ],
   "source": [
    "list1=[\"selam\",\"naber\",\"nasılsın\"]\n",
    "list2=[\"iyi günler\",\"iyi geceler\",\"iyi akşamlar\"]\n",
    "print(list1+list2)"
   ]
  },
  {
   "cell_type": "code",
   "execution_count": 37,
   "metadata": {},
   "outputs": [
    {
     "data": {
      "text/plain": [
       "[5, 'arda']"
      ]
     },
     "execution_count": 37,
     "metadata": {},
     "output_type": "execute_result"
    }
   ],
   "source": [
    "listz=[\"ali\",\"veli\",\"osman\",[5,\"arda\"]]\n",
    "listz[3]"
   ]
  },
  {
   "attachments": {},
   "cell_type": "markdown",
   "metadata": {},
   "source": [
    "# Tuple(Demet)\n",
    "* Tuple'lar listelere benzerdir,\n",
    "* Tuple ile liste arasındaki en önemli fark tuple elemanlarının değiştirilemez, liste elemanlarının değiştirilebilir olmasıdır,\n",
    "* Performanslı bir data sağlar,\n",
    "* () içerisinde tanımlanabilir,\n",
    "* İç içe tuple, tuple içerisinde tanımlamak mümkündür,\n",
    "* Bir kere tanımladıktan sonra değiştirilemezler yalnızca okunurlar,\n",
    "* Tek elemansa tuple olduğunu belirtmek için virgül koyulmalıdır."
   ]
  },
  {
   "cell_type": "code",
   "execution_count": 42,
   "metadata": {},
   "outputs": [
    {
     "name": "stdout",
     "output_type": "stream",
     "text": [
      "(2, 4, 6, 8, 'İstanbul', [2, 4, 65])\n",
      "<class 'tuple'>\n",
      "6\n"
     ]
    }
   ],
   "source": [
    "tupleList=(2,4,6,8,\"İstanbul\",[2,4,65])\n",
    "print(tupleList)\n",
    "print(type(tupleList))\n",
    "print(len(tupleList))"
   ]
  },
  {
   "cell_type": "code",
   "execution_count": 43,
   "metadata": {},
   "outputs": [
    {
     "ename": "TypeError",
     "evalue": "'tuple' object does not support item assignment",
     "output_type": "error",
     "traceback": [
      "\u001b[1;31m---------------------------------------------------------------------------\u001b[0m",
      "\u001b[1;31mTypeError\u001b[0m                                 Traceback (most recent call last)",
      "Cell \u001b[1;32mIn[43], line 2\u001b[0m\n\u001b[0;32m      1\u001b[0m a\u001b[39m=\u001b[39m(\u001b[39m1\u001b[39m,\u001b[39m2\u001b[39m,\u001b[39m3\u001b[39m,\u001b[39m3\u001b[39m,\u001b[39m4\u001b[39m,[\u001b[39m\"\u001b[39m\u001b[39mselam\u001b[39m\u001b[39m\"\u001b[39m,\u001b[39m1\u001b[39m,\u001b[39m2\u001b[39m],\u001b[39m\"\u001b[39m\u001b[39mselam\u001b[39m\u001b[39m\"\u001b[39m)\n\u001b[1;32m----> 2\u001b[0m a[\u001b[39m0\u001b[39;49m]\u001b[39m=\u001b[39m\u001b[39m\"\u001b[39m\u001b[39mAli\u001b[39m\u001b[39m\"\u001b[39m\n",
      "\u001b[1;31mTypeError\u001b[0m: 'tuple' object does not support item assignment"
     ]
    }
   ],
   "source": [
    "# tuple'lar değiştirilemez olduğundan dolayı hata verir.\n",
    "a=(1,2,3,3,4,[\"selam\",1,2],\"selam\")\n",
    "a[0]=\"Ali\""
   ]
  },
  {
   "attachments": {},
   "cell_type": "markdown",
   "metadata": {},
   "source": [
    "# set\n",
    "* Listelere benzer,\n",
    "* En önemli özelliği indeksiz ve sırasız elemanlardan oluşmasıdır,\n",
    "* Veri tekrarı söz konusu değildir, tüm elemanlar eşsizdir,\n",
    "* {} içerisinde tanımlanır,\n",
    "* Çok hızlı bir veri tipidir."
   ]
  },
  {
   "cell_type": "code",
   "execution_count": 45,
   "metadata": {},
   "outputs": [
    {
     "name": "stdout",
     "output_type": "stream",
     "text": [
      "{1, 2, 3, 'İstanbul', 5, 'Ali', 'Aygül'}\n"
     ]
    }
   ],
   "source": [
    "a={1,2,3,\"Ali\",\"Aygül\",\"İstanbul\",5}\n",
    "print(a)"
   ]
  },
  {
   "cell_type": "code",
   "execution_count": 46,
   "metadata": {},
   "outputs": [
    {
     "name": "stdout",
     "output_type": "stream",
     "text": [
      "{1, 2, 3, 4}\n"
     ]
    }
   ],
   "source": [
    "# Görüldüğü üzere tekrarlılardan birini yazdırıyor.\n",
    "b={1,1,2,2,3,3,4,4}\n",
    "print(b)"
   ]
  },
  {
   "cell_type": "code",
   "execution_count": 47,
   "metadata": {},
   "outputs": [
    {
     "ename": "TypeError",
     "evalue": "'set' object is not subscriptable",
     "output_type": "error",
     "traceback": [
      "\u001b[1;31m---------------------------------------------------------------------------\u001b[0m",
      "\u001b[1;31mTypeError\u001b[0m                                 Traceback (most recent call last)",
      "Cell \u001b[1;32mIn[47], line 2\u001b[0m\n\u001b[0;32m      1\u001b[0m b\u001b[39m=\u001b[39m{\u001b[39m1\u001b[39m,\u001b[39m1\u001b[39m,\u001b[39m2\u001b[39m,\u001b[39m2\u001b[39m,\u001b[39m3\u001b[39m,\u001b[39m3\u001b[39m,\u001b[39m4\u001b[39m,\u001b[39m4\u001b[39m}\n\u001b[1;32m----> 2\u001b[0m \u001b[39mprint\u001b[39m(b[\u001b[39m0\u001b[39;49m])\n",
      "\u001b[1;31mTypeError\u001b[0m: 'set' object is not subscriptable"
     ]
    }
   ],
   "source": [
    "# set'ler indexlenemeyeceğinden dolayı hata verir.\n",
    "b={1,1,2,2,3,3,4,4}\n",
    "print(b[0])"
   ]
  },
  {
   "cell_type": "code",
   "execution_count": 48,
   "metadata": {},
   "outputs": [
    {
     "name": "stdout",
     "output_type": "stream",
     "text": [
      "{1, 2, 3, 4}\n",
      "{1, 2, 3, 4}\n",
      "{1, 2, 3, 4}\n",
      "{1, 2, 3, 4}\n"
     ]
    }
   ],
   "source": [
    "b={1,1,2,2,3,3,4,4}\n",
    "for i in b:\n",
    "    print(b)"
   ]
  },
  {
   "attachments": {},
   "cell_type": "markdown",
   "metadata": {},
   "source": [
    "## set metodları\n",
    "* add(): Sete eleman ekler,\n",
    "* remove(): Setten eleman siler,\n",
    "* clear(): Setin içerisindeki elemanları siler,\n",
    "* pop(): Setin son elemanını siler,\n",
    "* update(): Sete eleman ekler,\n",
    "* union(): İki seti birleştirir,\n",
    "* intersection(): İki set'in kesişimini alır,\n",
    "* difference(): İki setin farkını alır."
   ]
  },
  {
   "cell_type": "code",
   "execution_count": 49,
   "metadata": {},
   "outputs": [
    {
     "name": "stdout",
     "output_type": "stream",
     "text": [
      "{1, 2, 3, 'İstanbul', 5, 'Ali', 'enes', 'Aygül'}\n"
     ]
    }
   ],
   "source": [
    "a={1,2,3,\"Ali\",\"Aygül\",\"İstanbul\",5}\n",
    "a.add(\"enes\")\n",
    "print(a)"
   ]
  },
  {
   "cell_type": "code",
   "execution_count": 54,
   "metadata": {},
   "outputs": [
    {
     "name": "stdout",
     "output_type": "stream",
     "text": [
      "{4, 5, 6, 7, 'Ali'}\n",
      "------------------------------\n",
      "{4, 5, 6, 7, 'Begüm', 'Furkan', 'Merve', 'Ali', 'Çağla'}\n"
     ]
    }
   ],
   "source": [
    "c={8,7,6,5,4,\"Ali\"}\n",
    "c.remove(8)\n",
    "print(c)\n",
    "print(\"------------------------------\")\n",
    "c.update([\"Furkan\",\"Çağla\",\"Begüm\",\"Merve\"])\n",
    "print(c)\n",
    "\n",
    "\n"
   ]
  },
  {
   "cell_type": "code",
   "execution_count": 59,
   "metadata": {},
   "outputs": [
    {
     "data": {
      "text/plain": [
       "{1, 2, 3, 4, 5, 9}"
      ]
     },
     "execution_count": 59,
     "metadata": {},
     "output_type": "execute_result"
    }
   ],
   "source": [
    "set1={1,2,3,4}\n",
    "set2={2,5,4,9}\n",
    "set1.union(set2)"
   ]
  },
  {
   "cell_type": "code",
   "execution_count": 60,
   "metadata": {},
   "outputs": [
    {
     "data": {
      "text/plain": [
       "{2, 4}"
      ]
     },
     "execution_count": 60,
     "metadata": {},
     "output_type": "execute_result"
    }
   ],
   "source": [
    "set1={1,2,3,4}\n",
    "set2={2,5,4,9}\n",
    "set3={4,3,2,7}\n",
    "\n",
    "set1.intersection(set2,set3)"
   ]
  },
  {
   "cell_type": "code",
   "execution_count": 63,
   "metadata": {},
   "outputs": [
    {
     "data": {
      "text/plain": [
       "{3}"
      ]
     },
     "execution_count": 63,
     "metadata": {},
     "output_type": "execute_result"
    }
   ],
   "source": [
    "seta={1,2,3}\n",
    "setb={2,1,4}\n",
    "seta.difference(setb)"
   ]
  },
  {
   "attachments": {},
   "cell_type": "markdown",
   "metadata": {},
   "source": [
    "# Dictionary (Sözlük)\n",
    "* Sırasız veri tutar,\n",
    "* Günlük hayatta olan sözlükler gibidirler,\n",
    "* {} arasında tanımlanır,\n",
    "* key: anahtar - bir bilgiye ulaşmak için kullanılır,\n",
    "* value: değer,\n",
    "* key-value için örnek verecek olursak: {06:\"Ankara\"} => 06 key, Ankara Value\n",
    "* dict(\"\") şeklinde de sözlük tanımlayabiliriz."
   ]
  },
  {
   "cell_type": "code",
   "execution_count": 66,
   "metadata": {},
   "outputs": [
    {
     "name": "stdout",
     "output_type": "stream",
     "text": [
      "{'book': 'kitap', 'table': 'masa'}\n",
      "<class 'dict'>\n"
     ]
    }
   ],
   "source": [
    "sozluk={\"book\": \"kitap\", \"table\": \"masa\"}\n",
    "print(sozluk)\n",
    "print(type(sozluk))"
   ]
  },
  {
   "cell_type": "code",
   "execution_count": 67,
   "metadata": {},
   "outputs": [
    {
     "name": "stdout",
     "output_type": "stream",
     "text": [
      "masa\n"
     ]
    }
   ],
   "source": [
    "sozluk={\"book\": \"kitap\", \"table\": \"masa\"}\n",
    "print(sozluk[\"table\"])"
   ]
  },
  {
   "cell_type": "markdown",
   "metadata": {},
   "source": [
    "## Veri Ekleme"
   ]
  },
  {
   "cell_type": "code",
   "execution_count": 68,
   "metadata": {},
   "outputs": [
    {
     "name": "stdout",
     "output_type": "stream",
     "text": [
      "{'book': 'kitap', 'table': 'masa', 'pencil': 'kalem'}\n",
      "kalem\n"
     ]
    }
   ],
   "source": [
    "sozluk={\"book\": \"kitap\", \"table\": \"masa\"}\n",
    "sozluk[\"pencil\"]=\"kalem\"\n",
    "print(sozluk)\n",
    "print(sozluk[\"pencil\"])\n"
   ]
  },
  {
   "attachments": {},
   "cell_type": "markdown",
   "metadata": {},
   "source": [
    "## Veri Güncelleme"
   ]
  },
  {
   "cell_type": "code",
   "execution_count": 70,
   "metadata": {},
   "outputs": [
    {
     "name": "stdout",
     "output_type": "stream",
     "text": [
      "{'book': 'kitaplar', 'table': 'masa'}\n"
     ]
    }
   ],
   "source": [
    "sozluk={\"book\": \"kitap\", \"table\": \"masa\"}\n",
    "sozluk[\"book\"]=\"kitaplar\"\n",
    "print(sozluk)"
   ]
  },
  {
   "attachments": {},
   "cell_type": "markdown",
   "metadata": {},
   "source": [
    "## Veri Silme"
   ]
  },
  {
   "cell_type": "code",
   "execution_count": 1,
   "metadata": {},
   "outputs": [
    {
     "name": "stdout",
     "output_type": "stream",
     "text": [
      "{'table': 'masa'}\n"
     ]
    }
   ],
   "source": [
    "sozluk={\"book\": \"kitap\", \"table\": \"masa\"}\n",
    "\n",
    "del(sozluk[\"book\"])\n",
    "print(sozluk)"
   ]
  },
  {
   "attachments": {},
   "cell_type": "markdown",
   "metadata": {},
   "source": [
    "## Value'nın Sözlük Olması"
   ]
  },
  {
   "cell_type": "code",
   "execution_count": 75,
   "metadata": {},
   "outputs": [
    {
     "name": "stdout",
     "output_type": "stream",
     "text": [
      "{1: {'TL': 'Türkiye'}}\n"
     ]
    }
   ],
   "source": [
    "sozlukValue={1:{\"TL\":\"Türkiye\"}}\n",
    "print(sozlukValue)"
   ]
  },
  {
   "attachments": {},
   "cell_type": "markdown",
   "metadata": {},
   "source": [
    "## Sözlük Metodları\n",
    "* keys(): Sözlükteki keyleri verir,\n",
    "* values(): Sözlükteki valueleri verir,\n",
    "* items(): Sözlükteki key ve value ciltlerini verir."
   ]
  },
  {
   "cell_type": "code",
   "execution_count": 79,
   "metadata": {},
   "outputs": [
    {
     "data": {
      "text/plain": [
       "dict_keys(['book', 'table'])"
      ]
     },
     "execution_count": 79,
     "metadata": {},
     "output_type": "execute_result"
    }
   ],
   "source": [
    "sozluk={\"book\": \"kitap\", \"table\": \"masa\"}\n",
    "sozluk.keys()"
   ]
  },
  {
   "cell_type": "code",
   "execution_count": 80,
   "metadata": {},
   "outputs": [
    {
     "data": {
      "text/plain": [
       "dict_values(['kitap', 'masa'])"
      ]
     },
     "execution_count": 80,
     "metadata": {},
     "output_type": "execute_result"
    }
   ],
   "source": [
    "sozluk.values()"
   ]
  },
  {
   "cell_type": "code",
   "execution_count": 81,
   "metadata": {},
   "outputs": [
    {
     "data": {
      "text/plain": [
       "dict_items([('book', 'kitap'), ('table', 'masa')])"
      ]
     },
     "execution_count": 81,
     "metadata": {},
     "output_type": "execute_result"
    }
   ],
   "source": [
    "sozluk.items()"
   ]
  },
  {
   "attachments": {},
   "cell_type": "markdown",
   "metadata": {},
   "source": [
    "# String Parçalama"
   ]
  },
  {
   "cell_type": "code",
   "execution_count": 82,
   "metadata": {},
   "outputs": [
    {
     "name": "stdout",
     "output_type": "stream",
     "text": [
      "i A\n"
     ]
    }
   ],
   "source": [
    "x=\"Ali Aygül\"\n",
    "print(x[2:5])"
   ]
  },
  {
   "attachments": {},
   "cell_type": "markdown",
   "metadata": {},
   "source": [
    "# String Metodları\n",
    "* len(): string'in uzunluğunu verir,\n",
    "\n",
    "* upper(): strin'in tüm harflerini büyük harfe çevirir,\n",
    "\n",
    "* lower(): strin'in tüm harflerini küçük harfe çevirir,\n",
    "\n",
    "* capitalize(): string'in ilk harfi büyük harf ile başlar,\n",
    "\n",
    "* swapcase(): string'in tüm büyük harflerini küçük harfe, tüm küçük harflerini de büyük harfe çevirir,\n",
    "\n",
    "* replace(): string'in içerisindeki veriyi değiştirir,\n",
    "\n",
    "* split(): string'i parçalar,\n",
    "\n",
    "* strip(): string'in başındaki ve sonundaki boşlukları siler,\n",
    "\n",
    "* startswith(): string'in belirtilen karakterle başlayıp başlamadığını kontrol eder,\n",
    "\n",
    "* endswith(): string'in belirtilen karakterle bitip bitmediğini kontrol eder,\n",
    "\n",
    "* find(): string'in içerisindeki verinin indexini verir, eğer veri yoksa -1 döndürür,\n",
    "\n",
    "* index(): string'in içerisindeki verinin indeksini verir, eğer veri yoksa ValueError hatası verir,\n",
    "\n",
    "* isalpha(): string'in tüm karakterlerinin alfabetik olup olmadığını kontrol eder,\n",
    "\n",
    "* isdigit(): strin'in tüm karakterlerinin rakam olup olmadığını kontrol eder.\n",
    "\n",
    "\n"
   ]
  }
 ],
 "metadata": {
  "kernelspec": {
   "display_name": "Python 3",
   "language": "python",
   "name": "python3"
  },
  "language_info": {
   "codemirror_mode": {
    "name": "ipython",
    "version": 3
   },
   "file_extension": ".py",
   "mimetype": "text/x-python",
   "name": "python",
   "nbconvert_exporter": "python",
   "pygments_lexer": "ipython3",
   "version": "3.11.1"
  },
  "orig_nbformat": 4
 },
 "nbformat": 4,
 "nbformat_minor": 2
}
