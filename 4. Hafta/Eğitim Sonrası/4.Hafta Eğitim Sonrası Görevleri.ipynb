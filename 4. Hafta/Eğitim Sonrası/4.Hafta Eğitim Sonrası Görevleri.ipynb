{
 "cells": [
  {
   "cell_type": "markdown",
   "metadata": {},
   "source": [
    "# Problem 1\n",
    "`ogrenciler` adında bir sözlük oluşturunuz. Kullanıcıdan döngü yardımıyla 3 öğrenci için veri girmesini isteyerek öğrencilerin sırasıyla okul numarası, isim, soy isim, telefon numarası ve doğum tarihi bilgilerini alınız. Aldığınız öğrenci bilgilerini yine aynı döngü yardımıyla `ogrenciler` adındaki sözlükte saklayınız. Daha sonra öğrenci bilgilerinin bulunduğu sözlük yapısını ekrana bastırınız.\n",
    "\n"
   ]
  },
  {
   "cell_type": "code",
   "execution_count": 3,
   "metadata": {},
   "outputs": [
    {
     "name": "stdout",
     "output_type": "stream",
     "text": [
      "1 tane öğrenci bilgisi alındı.\n",
      "2 tane öğrenci bilgisi alındı.\n",
      "3 tane öğrenci bilgisi alındı.\n",
      "{1: {'No': '4898', 'İsim': '948', 'Soyisim': '49849', 'Telefon': '849', 'Doğum Tarihi': '49'}, 2: {'No': '4', 'İsim': '4984', 'Soyisim': '98498', 'Telefon': '449', 'Doğum Tarihi': '984'}, 3: {'No': '984', 'İsim': '984', 'Soyisim': '49', 'Telefon': '4984', 'Doğum Tarihi': '984'}}\n"
     ]
    }
   ],
   "source": [
    "# 1.Problemin Çözümünü Buraya Yazınız\n",
    "\n",
    "ogrenciler= {}\n",
    "for i in range(1,4):\n",
    "    okul_no=input(\"Okul Numarasını Giriniz:\")\n",
    "    isim= input(\"İsim Giriniz:\")\n",
    "    soy_isim= input(\"Soyisim Giriniz:\")\n",
    "    telefon= input(\"Telefon Numarası Giriniz:\")\n",
    "    dogum_tarihi= input(\"Doğum Tarihinizi Giriniz:\")\n",
    "    print(f\"{i} tane öğrenci bilgisi alındı.\")\n",
    "\n",
    "    ogrenciler[i] = {\n",
    "    \"No\": okul_no,\n",
    "    \"İsim\": isim,\n",
    "    \"Soyisim\": soy_isim,\n",
    "    \"Telefon\": telefon,\n",
    "    \"Doğum Tarihi\": dogum_tarihi\n",
    "    }\n",
    "\n",
    "print(ogrenciler)"
   ]
  },
  {
   "cell_type": "markdown",
   "metadata": {},
   "source": [
    "# Problem 2\n",
    "\n",
    "### a - Biraz ısınarak başlayalım!\n",
    "\n",
    "```\n",
    "numbers = [5,10,10,15,15,15,20,20,20,20]\n",
    "```\n",
    "\n",
    "Yukarıda `numbers` adında 10 elemanlı bir liste verilmiştir. Bu listenin her elemanını kontrol eden ve tekrar eden elemanları bir kez olacak şekilde başka bir listeye kopyalayan bir program yazınız. Son olarak oluşturduğunuz listeyi ekrana bastırınız.\n",
    "\n",
    "\n",
    "\n",
    "\n",
    "```\n",
    ">Output\n",
    "[5, 10, 15, 20]\n",
    "```\n"
   ]
  },
  {
   "cell_type": "code",
   "execution_count": 7,
   "metadata": {},
   "outputs": [
    {
     "name": "stdout",
     "output_type": "stream",
     "text": [
      "[5, 10, 10, 15, 15, 15, 20, 20, 20, 20]\n"
     ]
    }
   ],
   "source": [
    "# 2.Problemin a Şıkkının Çözümünü Buraya Yazınız\n",
    "numbers = [5,10,10,15,15,15,20,20,20,20]\n",
    "unique= []\n",
    "for j in numbers:\n",
    "    if j in unique:\n",
    "        continue\n",
    "    else:\n",
    "        unique.append(numbers)\n",
    "\n",
    "print(numbers)"
   ]
  },
  {
   "cell_type": "markdown",
   "metadata": {},
   "source": [
    "### 🌶️ b) Hadi işi biraz daha zorlaştıralım! \n",
    "\n",
    "\n",
    "Şimdiyse senden `numbers` isimli listedeki tekrar eden elemanları `repeatNumbers` adındaki listeye; tekrar etmeyen elemanları `uniqueNumbers`adındaki listeye kopyalayan yazmanı ve listeleri ekrana bastırmanı bekliyoruz\n",
    "\n",
    "```\n",
    ">Output\n",
    "Tekrar Eden Elemanlar: [10, 10, 15, 15, 15, 20, 20, 20, 20]\n",
    "Tekrar Etmeyen Elemanlar: [5]\n",
    "```"
   ]
  },
  {
   "cell_type": "code",
   "execution_count": 8,
   "metadata": {},
   "outputs": [
    {
     "name": "stdout",
     "output_type": "stream",
     "text": [
      "Tekrar eden elemanlar [10, 10, 15, 15, 15, 20, 20, 20, 20]\n",
      "Tekrar etmeyen elemanlar [5]\n"
     ]
    }
   ],
   "source": [
    "# 2.Problemin b Şıkkının Çözümünü Buraya Yazınız\n",
    "numbers = [5,10,10,15,15,15,20,20,20,20]\n",
    "unique=[]\n",
    "repeat=[]\n",
    "for number in numbers:\n",
    "    if numbers.count(number) ==1:\n",
    "        unique.append(number)\n",
    "    else:\n",
    "        repeat.append(number)\n",
    "print(\"Tekrar eden elemanlar\", repeat)\n",
    "print(\"Tekrar etmeyen elemanlar\", unique)"
   ]
  },
  {
   "cell_type": "markdown",
   "metadata": {},
   "source": [
    "# Problem 3\n",
    "sn1 = {1,2,3,4,5}\n",
    "\n",
    "sn2 = {4,5,6,7,8}\n",
    "\n",
    " Verilen 2 adet küme için kesişimlerini, farklarını ve birleşimlerini bulunuz. "
   ]
  },
  {
   "cell_type": "code",
   "execution_count": 7,
   "metadata": {},
   "outputs": [
    {
     "name": "stdout",
     "output_type": "stream",
     "text": [
      "Kesişimleri:{4, 5}\n",
      "Farkları:{1, 2, 3}\n",
      "Farkları:{4, 5, 6, 7, 8}\n",
      "Birleşimleri {1, 2, 3, 4, 5, 6, 7, 8}\n",
      "Birleşimleri {1, 2, 3, 4, 5, 6, 7, 8}\n"
     ]
    }
   ],
   "source": [
    "# 3.Problemin Çözümünü Buraya Yazınız\n",
    "sn1 = {1,2,3,4,5}\n",
    "sn2 = {4,5,6,7,8}\n",
    "kesisim1= sn1.intersection(sn2)\n",
    "print(f\"Kesişimleri:{kesisim1}\")\n",
    "fark1= sn1.difference_update(sn2)\n",
    "print(f\"Farkları:{sn1}\")\n",
    "fark2=sn2.difference_update(sn1)\n",
    "print(f\"Farkları:{sn2}\")\n",
    "birlesim=sn1.update(sn2)\n",
    "print(f\"Birleşimleri {sn1}\")\n",
    "birlesim2= sn1.union(sn2)\n",
    "print(f\"Birleşimleri {sn1}\")\n",
    "# sn1+sn2 yapamazsın\n",
    "\n",
    "\n"
   ]
  },
  {
   "cell_type": "markdown",
   "metadata": {},
   "source": [
    "# Problem 4\n",
    "\n",
    "Buradaki işlemlerimizin tamamı stringler içindir. Aşağıda verilecek olan metodlar için kendinizin örnek yaratması gerekmektedir. \n",
    "\n",
    "Örneğin `upper` için `string` değişkeni oluştururken` k = \"BAC\"` şeklinde oluşturmayınız. Bunun yerine k değişkenini `k = \"bac`\" şeklinde oluşturmanız `upper` metodundaki değişimi görebilmeniz için daha iyi olacaktır.\n",
    "\n",
    "Bütün metodlardaki değişimin gözle görülür şekilde değişimi beklenmektedir.\n",
    "\n",
    "\n",
    "1- capitalize(), lower(), upper(), swapcase(), title(), replace()\n",
    "\n",
    "2- endswith(), startswith(), find(), index(), count()\n",
    "\n",
    "3- split(), strip(), join(), islower(), isalpha(), isdigit()\n",
    "\n",
    "\n",
    "Yukarıdaki `string` metodlarındaki değişimleri görebildiğimiz bir program yazınız.\n"
   ]
  },
  {
   "cell_type": "code",
   "execution_count": 46,
   "metadata": {},
   "outputs": [
    {
     "name": "stdout",
     "output_type": "stream",
     "text": [
      "YetGen Core ile Python Öğreniyorum\n",
      "Yetgen core ile python öğreniyorum\n",
      "yetgen core ile python öğreniyorum\n",
      "YETGEN CORE ILE PYTHON ÖĞRENIYORUM\n",
      "yETgEN cORE ILE pYTHON öĞRENIYORUM\n",
      "Yetgen Core Ile Python Öğreniyorum\n",
      "------------------------------------\n",
      "True\n",
      "True\n",
      "12\n",
      "16\n",
      "2\n",
      "------------------------------------\n",
      "['YetGen', 'Core', 'ile', 'Python', 'Öğreniyorum']\n",
      "etGen Core ile Python Öğreniyorum\n",
      "SYetGen Core ile Python ÖğreniyorumeYetGen Core ile Python ÖğreniyorumlYetGen Core ile Python ÖğreniyorumaYetGen Core ile Python Öğreniyorumm\n",
      "False\n",
      "False\n",
      "False\n",
      "True\n"
     ]
    }
   ],
   "source": [
    "# 4.Problemin Çözümünü Buraya Yazınız\n",
    "k = \"YetGen Core ile Python Öğreniyorum\"\n",
    "print(k)\n",
    "print(k.capitalize())\n",
    "print(k.lower())\n",
    "print(k.upper())\n",
    "print(k.swapcase())\n",
    "print(k.title())\n",
    "print(\"------------------------------------\")\n",
    "print(k.endswith(\"Öğreniyorum\"))\n",
    "print(k.startswith(\"YetGen\"))\n",
    "print(k.find(\"ile\"))\n",
    "print(k.index(\"Python\"))\n",
    "print(k.count(\"e\" and \"i\"))\n",
    "print(\"------------------------------------\")\n",
    "print(k.split(\" \"))\n",
    "print(k.strip(\"Y\")) #Değişkenin başından ya da sonundan siler.\n",
    "print(k.join(\"Selam\")) # Karakter dizilerini belirtilen ayraçla birlikte tek bir string haline getirir.\n",
    "print(k.islower())\n",
    "print(k.isalpha())\n",
    "print(k.isdigit())\n",
    "\n",
    "print(k.lower().islower())"
   ]
  },
  {
   "cell_type": "code",
   "execution_count": null,
   "metadata": {},
   "outputs": [],
   "source": []
  }
 ],
 "metadata": {
  "kernelspec": {
   "display_name": "Python 3.10.5 64-bit",
   "language": "python",
   "name": "python3"
  },
  "language_info": {
   "codemirror_mode": {
    "name": "ipython",
    "version": 3
   },
   "file_extension": ".py",
   "mimetype": "text/x-python",
   "name": "python",
   "nbconvert_exporter": "python",
   "pygments_lexer": "ipython3",
   "version": "3.11.1"
  },
  "orig_nbformat": 4,
  "vscode": {
   "interpreter": {
    "hash": "5026d2d6e7aaaaba093def813beadff083d8733e4a511af01735cbabd156995d"
   }
  }
 },
 "nbformat": 4,
 "nbformat_minor": 2
}
